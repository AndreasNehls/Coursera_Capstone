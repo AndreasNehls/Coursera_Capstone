{
 "cells": [
  {
   "cell_type": "markdown",
   "metadata": {},
   "source": [
    "# IBM Data Science Professional Certificate\n",
    "https://www.coursera.org/specializations/ibm-data-science-professional-certificate"
   ]
  },
  {
   "cell_type": "markdown",
   "metadata": {},
   "source": [
    "## COURSE 9 - Applied Data Science Capstone\n",
    "https://www.coursera.org/learn/applied-data-science-capstone"
   ]
  },
  {
   "cell_type": "markdown",
   "metadata": {},
   "source": [
    "### Week 03 - Segmenting and Clustering Neighborhoods in the city of Toronto, Canada"
   ]
  },
  {
   "cell_type": "markdown",
   "metadata": {},
   "source": [
    "### Index:\n",
    "\n",
    "* [Part 1 - scrapping](#part_001)\n",
    "\n",
    "* [Part 2 - mapping](#part_002)"
   ]
  },
  {
   "cell_type": "markdown",
   "metadata": {},
   "source": [
    "### Part 1 - Task: <a id='part_001'></a>\n",
    "1. Scrape a table from the Wikipedia page\n",
    "    https://en.wikipedia.org/wiki/List_of_postal_codes_of_Canada:_M\n",
    "2. Preprocess the data in using pandas"
   ]
  },
  {
   "cell_type": "code",
   "execution_count": 1,
   "metadata": {},
   "outputs": [],
   "source": [
    "#import libraries\n",
    "\n",
    "import pandas as pd\n",
    "import numpy as np\n",
    "\n",
    "from bs4 import BeautifulSoup\n",
    "\n",
    "import requests"
   ]
  },
  {
   "cell_type": "code",
   "execution_count": 2,
   "metadata": {},
   "outputs": [],
   "source": [
    "# request link to wikipedia page in text format\n",
    "table_link = requests.get('https://en.wikipedia.org/wiki/List_of_postal_codes_of_Canada:_M').text"
   ]
  },
  {
   "cell_type": "code",
   "execution_count": 3,
   "metadata": {},
   "outputs": [],
   "source": [
    "# beautifulsoup function\n",
    "soupcanada = BeautifulSoup(table_link)"
   ]
  },
  {
   "cell_type": "code",
   "execution_count": 4,
   "metadata": {},
   "outputs": [],
   "source": [
    "# which line of html code contains the table details\n",
    "wiki_table = soupcanada.find('table', {'class':'wikitable sortable'})"
   ]
  },
  {
   "cell_type": "code",
   "execution_count": 5,
   "metadata": {},
   "outputs": [],
   "source": [
    "# create a empty variables\n",
    "postcode = []\n",
    "borough = []\n",
    "neighborhood = []"
   ]
  },
  {
   "cell_type": "code",
   "execution_count": 6,
   "metadata": {},
   "outputs": [],
   "source": [
    "# append data into a created variables\n",
    "for row in wiki_table.find_all('tr'):\n",
    "    cells = row.find_all('td')\n",
    "    if len(cells) == 3:\n",
    "        postcode.append(cells[0].find(text = True))\n",
    "        borough.append(cells[1].find(text = True))\n",
    "        neighborhood.append(cells[2].find(text = True))"
   ]
  },
  {
   "cell_type": "code",
   "execution_count": 7,
   "metadata": {},
   "outputs": [],
   "source": [
    "# creating a empty dataframe\n",
    "table_df = pd.DataFrame(columns = ['PostalCode', 'Borough', 'Neighbourhood'])"
   ]
  },
  {
   "cell_type": "code",
   "execution_count": 8,
   "metadata": {},
   "outputs": [],
   "source": [
    "# insert data into the empty dataframe\n",
    "table_df['PostalCode'] = postcode\n",
    "table_df['Borough'] = borough\n",
    "table_df['Neighbourhood'] = neighborhood"
   ]
  },
  {
   "cell_type": "code",
   "execution_count": 9,
   "metadata": {},
   "outputs": [
    {
     "data": {
      "text/html": [
       "<div>\n",
       "<style scoped>\n",
       "    .dataframe tbody tr th:only-of-type {\n",
       "        vertical-align: middle;\n",
       "    }\n",
       "\n",
       "    .dataframe tbody tr th {\n",
       "        vertical-align: top;\n",
       "    }\n",
       "\n",
       "    .dataframe thead th {\n",
       "        text-align: right;\n",
       "    }\n",
       "</style>\n",
       "<table border=\"1\" class=\"dataframe\">\n",
       "  <thead>\n",
       "    <tr style=\"text-align: right;\">\n",
       "      <th></th>\n",
       "      <th>Borough</th>\n",
       "      <th>Neighbourhood</th>\n",
       "    </tr>\n",
       "    <tr>\n",
       "      <th>PostalCode</th>\n",
       "      <th></th>\n",
       "      <th></th>\n",
       "    </tr>\n",
       "  </thead>\n",
       "  <tbody>\n",
       "    <tr>\n",
       "      <th>M1A</th>\n",
       "      <td>Not assigned</td>\n",
       "      <td>Not assigned</td>\n",
       "    </tr>\n",
       "    <tr>\n",
       "      <th>M2A</th>\n",
       "      <td>Not assigned</td>\n",
       "      <td>Not assigned</td>\n",
       "    </tr>\n",
       "    <tr>\n",
       "      <th>M3A</th>\n",
       "      <td>North York</td>\n",
       "      <td>Parkwoods</td>\n",
       "    </tr>\n",
       "    <tr>\n",
       "      <th>M4A</th>\n",
       "      <td>North York</td>\n",
       "      <td>Victoria Village</td>\n",
       "    </tr>\n",
       "    <tr>\n",
       "      <th>M5A</th>\n",
       "      <td>Downtown Toronto</td>\n",
       "      <td>Harbourfront</td>\n",
       "    </tr>\n",
       "  </tbody>\n",
       "</table>\n",
       "</div>"
      ],
      "text/plain": [
       "                     Borough     Neighbourhood\n",
       "PostalCode                                    \n",
       "M1A             Not assigned     Not assigned\n",
       "\n",
       "M2A             Not assigned     Not assigned\n",
       "\n",
       "M3A               North York         Parkwoods\n",
       "M4A               North York  Victoria Village\n",
       "M5A         Downtown Toronto      Harbourfront"
      ]
     },
     "execution_count": 9,
     "metadata": {},
     "output_type": "execute_result"
    }
   ],
   "source": [
    "# set column Postalcode as index\n",
    "table_df.set_index('PostalCode', inplace = True)\n",
    "# view dateframe\n",
    "table_df.head()"
   ]
  },
  {
   "cell_type": "code",
   "execution_count": 10,
   "metadata": {},
   "outputs": [
    {
     "data": {
      "text/html": [
       "<div>\n",
       "<style scoped>\n",
       "    .dataframe tbody tr th:only-of-type {\n",
       "        vertical-align: middle;\n",
       "    }\n",
       "\n",
       "    .dataframe tbody tr th {\n",
       "        vertical-align: top;\n",
       "    }\n",
       "\n",
       "    .dataframe thead th {\n",
       "        text-align: right;\n",
       "    }\n",
       "</style>\n",
       "<table border=\"1\" class=\"dataframe\">\n",
       "  <thead>\n",
       "    <tr style=\"text-align: right;\">\n",
       "      <th></th>\n",
       "      <th>Borough</th>\n",
       "      <th>Neighbourhood</th>\n",
       "    </tr>\n",
       "    <tr>\n",
       "      <th>PostalCode</th>\n",
       "      <th></th>\n",
       "      <th></th>\n",
       "    </tr>\n",
       "  </thead>\n",
       "  <tbody>\n",
       "    <tr>\n",
       "      <th>M3A</th>\n",
       "      <td>North York</td>\n",
       "      <td>Parkwoods</td>\n",
       "    </tr>\n",
       "    <tr>\n",
       "      <th>M4A</th>\n",
       "      <td>North York</td>\n",
       "      <td>Victoria Village</td>\n",
       "    </tr>\n",
       "    <tr>\n",
       "      <th>M5A</th>\n",
       "      <td>Downtown Toronto</td>\n",
       "      <td>Harbourfront</td>\n",
       "    </tr>\n",
       "    <tr>\n",
       "      <th>M5A</th>\n",
       "      <td>Downtown Toronto</td>\n",
       "      <td>Regent Park</td>\n",
       "    </tr>\n",
       "    <tr>\n",
       "      <th>M6A</th>\n",
       "      <td>North York</td>\n",
       "      <td>Lawrence Heights</td>\n",
       "    </tr>\n",
       "  </tbody>\n",
       "</table>\n",
       "</div>"
      ],
      "text/plain": [
       "                     Borough     Neighbourhood\n",
       "PostalCode                                    \n",
       "M3A               North York         Parkwoods\n",
       "M4A               North York  Victoria Village\n",
       "M5A         Downtown Toronto      Harbourfront\n",
       "M5A         Downtown Toronto       Regent Park\n",
       "M6A               North York  Lawrence Heights"
      ]
     },
     "execution_count": 10,
     "metadata": {},
     "output_type": "execute_result"
    }
   ],
   "source": [
    "# remove rows with null value in Borough\n",
    "table_df = table_df[table_df.Borough != 'Not assigned']\n",
    "# view dateframe\n",
    "table_df.head()"
   ]
  },
  {
   "cell_type": "code",
   "execution_count": 11,
   "metadata": {},
   "outputs": [
    {
     "data": {
      "text/html": [
       "<div>\n",
       "<style scoped>\n",
       "    .dataframe tbody tr th:only-of-type {\n",
       "        vertical-align: middle;\n",
       "    }\n",
       "\n",
       "    .dataframe tbody tr th {\n",
       "        vertical-align: top;\n",
       "    }\n",
       "\n",
       "    .dataframe thead th {\n",
       "        text-align: right;\n",
       "    }\n",
       "</style>\n",
       "<table border=\"1\" class=\"dataframe\">\n",
       "  <thead>\n",
       "    <tr style=\"text-align: right;\">\n",
       "      <th></th>\n",
       "      <th>Borough</th>\n",
       "      <th>Neighbourhood</th>\n",
       "    </tr>\n",
       "    <tr>\n",
       "      <th>PostalCode</th>\n",
       "      <th></th>\n",
       "      <th></th>\n",
       "    </tr>\n",
       "  </thead>\n",
       "  <tbody>\n",
       "    <tr>\n",
       "      <th>M3A</th>\n",
       "      <td>North York</td>\n",
       "      <td>Parkwoods</td>\n",
       "    </tr>\n",
       "    <tr>\n",
       "      <th>M4A</th>\n",
       "      <td>North York</td>\n",
       "      <td>Victoria Village</td>\n",
       "    </tr>\n",
       "    <tr>\n",
       "      <th>M5A</th>\n",
       "      <td>Downtown Toronto</td>\n",
       "      <td>Harbourfront</td>\n",
       "    </tr>\n",
       "    <tr>\n",
       "      <th>M5A</th>\n",
       "      <td>Downtown Toronto</td>\n",
       "      <td>Regent Park</td>\n",
       "    </tr>\n",
       "    <tr>\n",
       "      <th>M6A</th>\n",
       "      <td>North York</td>\n",
       "      <td>Lawrence Heights</td>\n",
       "    </tr>\n",
       "  </tbody>\n",
       "</table>\n",
       "</div>"
      ],
      "text/plain": [
       "                     Borough     Neighbourhood\n",
       "PostalCode                                    \n",
       "M3A               North York         Parkwoods\n",
       "M4A               North York  Victoria Village\n",
       "M5A         Downtown Toronto      Harbourfront\n",
       "M5A         Downtown Toronto       Regent Park\n",
       "M6A               North York  Lawrence Heights"
      ]
     },
     "execution_count": 11,
     "metadata": {},
     "output_type": "execute_result"
    }
   ],
   "source": [
    "# strip \\n from string value\n",
    "table_df['Neighbourhood'] = table_df['Neighbourhood'].str.strip('\\n')\n",
    "# view dateframe\n",
    "table_df.head()"
   ]
  },
  {
   "cell_type": "code",
   "execution_count": 12,
   "metadata": {},
   "outputs": [
    {
     "data": {
      "text/html": [
       "<div>\n",
       "<style scoped>\n",
       "    .dataframe tbody tr th:only-of-type {\n",
       "        vertical-align: middle;\n",
       "    }\n",
       "\n",
       "    .dataframe tbody tr th {\n",
       "        vertical-align: top;\n",
       "    }\n",
       "\n",
       "    .dataframe thead th {\n",
       "        text-align: right;\n",
       "    }\n",
       "</style>\n",
       "<table border=\"1\" class=\"dataframe\">\n",
       "  <thead>\n",
       "    <tr style=\"text-align: right;\">\n",
       "      <th></th>\n",
       "      <th>Borough</th>\n",
       "      <th>Neighbourhood</th>\n",
       "    </tr>\n",
       "    <tr>\n",
       "      <th>PostalCode</th>\n",
       "      <th></th>\n",
       "      <th></th>\n",
       "    </tr>\n",
       "  </thead>\n",
       "  <tbody>\n",
       "    <tr>\n",
       "      <th>M3A</th>\n",
       "      <td>North York</td>\n",
       "      <td>Parkwoods</td>\n",
       "    </tr>\n",
       "    <tr>\n",
       "      <th>M4A</th>\n",
       "      <td>North York</td>\n",
       "      <td>Victoria Village</td>\n",
       "    </tr>\n",
       "    <tr>\n",
       "      <th>M5A</th>\n",
       "      <td>Downtown Toronto</td>\n",
       "      <td>Harbourfront</td>\n",
       "    </tr>\n",
       "    <tr>\n",
       "      <th>M5A</th>\n",
       "      <td>Downtown Toronto</td>\n",
       "      <td>Regent Park</td>\n",
       "    </tr>\n",
       "    <tr>\n",
       "      <th>M6A</th>\n",
       "      <td>North York</td>\n",
       "      <td>Lawrence Heights</td>\n",
       "    </tr>\n",
       "  </tbody>\n",
       "</table>\n",
       "</div>"
      ],
      "text/plain": [
       "                     Borough     Neighbourhood\n",
       "PostalCode                                    \n",
       "M3A               North York         Parkwoods\n",
       "M4A               North York  Victoria Village\n",
       "M5A         Downtown Toronto      Harbourfront\n",
       "M5A         Downtown Toronto       Regent Park\n",
       "M6A               North York  Lawrence Heights"
      ]
     },
     "execution_count": 12,
     "metadata": {},
     "output_type": "execute_result"
    }
   ],
   "source": [
    "# replace Neighbourhood with not assigned value with Borough\n",
    "table_df['Neighbourhood'] = table_df['Neighbourhood'].replace(['Not assigned'], 'Queens Park')\n",
    "# view dateframe\n",
    "table_df.head()"
   ]
  },
  {
   "cell_type": "code",
   "execution_count": 13,
   "metadata": {},
   "outputs": [
    {
     "data": {
      "text/html": [
       "<div>\n",
       "<style scoped>\n",
       "    .dataframe tbody tr th:only-of-type {\n",
       "        vertical-align: middle;\n",
       "    }\n",
       "\n",
       "    .dataframe tbody tr th {\n",
       "        vertical-align: top;\n",
       "    }\n",
       "\n",
       "    .dataframe thead th {\n",
       "        text-align: right;\n",
       "    }\n",
       "</style>\n",
       "<table border=\"1\" class=\"dataframe\">\n",
       "  <thead>\n",
       "    <tr style=\"text-align: right;\">\n",
       "      <th></th>\n",
       "      <th></th>\n",
       "      <th>Neighbourhood</th>\n",
       "    </tr>\n",
       "    <tr>\n",
       "      <th>PostalCode</th>\n",
       "      <th>Borough</th>\n",
       "      <th></th>\n",
       "    </tr>\n",
       "  </thead>\n",
       "  <tbody>\n",
       "    <tr>\n",
       "      <th>M1B</th>\n",
       "      <th>Scarborough</th>\n",
       "      <td>Rouge,Malvern</td>\n",
       "    </tr>\n",
       "    <tr>\n",
       "      <th>M1C</th>\n",
       "      <th>Scarborough</th>\n",
       "      <td>Highland Creek,Rouge Hill,Port Union</td>\n",
       "    </tr>\n",
       "    <tr>\n",
       "      <th>M1E</th>\n",
       "      <th>Scarborough</th>\n",
       "      <td>Guildwood,Morningside,West Hill</td>\n",
       "    </tr>\n",
       "    <tr>\n",
       "      <th>M1G</th>\n",
       "      <th>Scarborough</th>\n",
       "      <td>Woburn</td>\n",
       "    </tr>\n",
       "    <tr>\n",
       "      <th>M1H</th>\n",
       "      <th>Scarborough</th>\n",
       "      <td>Cedarbrae</td>\n",
       "    </tr>\n",
       "  </tbody>\n",
       "</table>\n",
       "</div>"
      ],
      "text/plain": [
       "                                               Neighbourhood\n",
       "PostalCode Borough                                          \n",
       "M1B        Scarborough                         Rouge,Malvern\n",
       "M1C        Scarborough  Highland Creek,Rouge Hill,Port Union\n",
       "M1E        Scarborough       Guildwood,Morningside,West Hill\n",
       "M1G        Scarborough                                Woburn\n",
       "M1H        Scarborough                             Cedarbrae"
      ]
     },
     "execution_count": 13,
     "metadata": {},
     "output_type": "execute_result"
    }
   ],
   "source": [
    "# group rows with similar Postalcode\n",
    "table_df = table_df.groupby(['PostalCode', 'Borough']).agg(lambda col: ',' .join(col))\n",
    "# view dateframe\n",
    "table_df.head()"
   ]
  },
  {
   "cell_type": "code",
   "execution_count": 14,
   "metadata": {},
   "outputs": [
    {
     "data": {
      "text/html": [
       "<div>\n",
       "<style scoped>\n",
       "    .dataframe tbody tr th:only-of-type {\n",
       "        vertical-align: middle;\n",
       "    }\n",
       "\n",
       "    .dataframe tbody tr th {\n",
       "        vertical-align: top;\n",
       "    }\n",
       "\n",
       "    .dataframe thead th {\n",
       "        text-align: right;\n",
       "    }\n",
       "</style>\n",
       "<table border=\"1\" class=\"dataframe\">\n",
       "  <thead>\n",
       "    <tr style=\"text-align: right;\">\n",
       "      <th></th>\n",
       "      <th>PostalCode</th>\n",
       "      <th>Borough</th>\n",
       "      <th>Neighbourhood</th>\n",
       "    </tr>\n",
       "  </thead>\n",
       "  <tbody>\n",
       "    <tr>\n",
       "      <th>0</th>\n",
       "      <td>M1B</td>\n",
       "      <td>Scarborough</td>\n",
       "      <td>Rouge,Malvern</td>\n",
       "    </tr>\n",
       "    <tr>\n",
       "      <th>1</th>\n",
       "      <td>M1C</td>\n",
       "      <td>Scarborough</td>\n",
       "      <td>Highland Creek,Rouge Hill,Port Union</td>\n",
       "    </tr>\n",
       "    <tr>\n",
       "      <th>2</th>\n",
       "      <td>M1E</td>\n",
       "      <td>Scarborough</td>\n",
       "      <td>Guildwood,Morningside,West Hill</td>\n",
       "    </tr>\n",
       "    <tr>\n",
       "      <th>3</th>\n",
       "      <td>M1G</td>\n",
       "      <td>Scarborough</td>\n",
       "      <td>Woburn</td>\n",
       "    </tr>\n",
       "    <tr>\n",
       "      <th>4</th>\n",
       "      <td>M1H</td>\n",
       "      <td>Scarborough</td>\n",
       "      <td>Cedarbrae</td>\n",
       "    </tr>\n",
       "  </tbody>\n",
       "</table>\n",
       "</div>"
      ],
      "text/plain": [
       "  PostalCode      Borough                         Neighbourhood\n",
       "0        M1B  Scarborough                         Rouge,Malvern\n",
       "1        M1C  Scarborough  Highland Creek,Rouge Hill,Port Union\n",
       "2        M1E  Scarborough       Guildwood,Morningside,West Hill\n",
       "3        M1G  Scarborough                                Woburn\n",
       "4        M1H  Scarborough                             Cedarbrae"
      ]
     },
     "execution_count": 14,
     "metadata": {},
     "output_type": "execute_result"
    }
   ],
   "source": [
    "# reset the index (Index column)\n",
    "table_df.reset_index(['PostalCode', 'Borough'], inplace = True)\n",
    "# view dateframe\n",
    "table_df.head()"
   ]
  },
  {
   "cell_type": "code",
   "execution_count": 15,
   "metadata": {},
   "outputs": [
    {
     "name": "stdout",
     "output_type": "stream",
     "text": [
      "The final shape of the dataframe is (103, 3)\n"
     ]
    }
   ],
   "source": [
    "print('The final shape of the dataframe is', table_df.shape)"
   ]
  },
  {
   "cell_type": "markdown",
   "metadata": {},
   "source": [
    "---------------------------"
   ]
  },
  {
   "cell_type": "markdown",
   "metadata": {},
   "source": [
    "### Part 2 - Task:<a id='part_002'></a>\n",
    "1. Merge the geocoder dataframe with dataframe from Part 1"
   ]
  },
  {
   "cell_type": "code",
   "execution_count": 16,
   "metadata": {},
   "outputs": [
    {
     "name": "stdout",
     "output_type": "stream",
     "text": [
      "--2019-05-24 10:25:07--  http://cocl.us/Geospatial_data\n",
      "Resolving cocl.us (cocl.us)... 159.8.72.228\n",
      "Connecting to cocl.us (cocl.us)|159.8.72.228|:80... connected.\n",
      "HTTP request sent, awaiting response... 301 Moved Permanently\n",
      "Location: https://cocl.us/Geospatial_data [following]\n",
      "--2019-05-24 10:25:07--  https://cocl.us/Geospatial_data\n",
      "Connecting to cocl.us (cocl.us)|159.8.72.228|:443... connected.\n",
      "HTTP request sent, awaiting response... 301 Moved Permanently\n",
      "Location: https://ibm.box.com/shared/static/9afzr83pps4pwf2smjjcf1y5mvgb18rr.csv [following]\n",
      "--2019-05-24 10:25:08--  https://ibm.box.com/shared/static/9afzr83pps4pwf2smjjcf1y5mvgb18rr.csv\n",
      "Resolving ibm.box.com (ibm.box.com)... 185.235.236.197\n",
      "Connecting to ibm.box.com (ibm.box.com)|185.235.236.197|:443... connected.\n",
      "HTTP request sent, awaiting response... 301 Moved Permanently\n",
      "Location: /public/static/9afzr83pps4pwf2smjjcf1y5mvgb18rr.csv [following]\n",
      "--2019-05-24 10:25:09--  https://ibm.box.com/public/static/9afzr83pps4pwf2smjjcf1y5mvgb18rr.csv\n",
      "Reusing existing connection to ibm.box.com:443.\n",
      "HTTP request sent, awaiting response... 301 Moved Permanently\n",
      "Location: https://ibm.ent.box.com/public/static/9afzr83pps4pwf2smjjcf1y5mvgb18rr.csv [following]\n",
      "--2019-05-24 10:25:09--  https://ibm.ent.box.com/public/static/9afzr83pps4pwf2smjjcf1y5mvgb18rr.csv\n",
      "Resolving ibm.ent.box.com (ibm.ent.box.com)... 185.235.236.211\n",
      "Connecting to ibm.ent.box.com (ibm.ent.box.com)|185.235.236.211|:443... connected.\n",
      "HTTP request sent, awaiting response... 302 Found\n",
      "Location: https://public.boxcloud.com/d/1/b1!I67yWOC4bBh92xQ9sZS2J97tRWl2HkNqO_6aSIbb9hGkolVM0xdOu7luEjEXANrldQc6xv5AQT_NLi8Vm_3awQZOCcqY5Migaar9UxMWHcAWGeV9tw82PVPdrBRSytfvm4HAgNemAf-Snm0tSRvaGFE15UrTo__SW0DYaXtqxPuR6ixptB27ZcZ3Qb70KwzliYsOcAvX_NNH4PbA9jOwKjNIXESB18W8p-v1HTJsjjRkVulF27BnAoqiBU9bzyhFxP739ZsAy7ig9Q1hcRFidLeZf_UoHRJ4PzGRZQIIftEHz4CYdDLQpq1FGvAZhUZ8F-wzgP2lXeggMzE7QYSUSdYXAmM4vckGWFdq0_bbdrHxqB0AVMk2X8dD8e-xpjQFG99MnrNKdfzty3yRoV5yAir1_ZpyEWVYEPNyvO9YNZRjYOMIRSXcQe73du8eNHz1A93CEfmBxk6H4dEK7I-IYftU9VBv0YOsUKmiGEZ6V6AEgX1U8b9mIcOjU1k5XpA9xnJeFhYH6QyO6_OIbfx9w1dYmU_5_qx74jREvjnMpfefKv0RtakvA9kzIVrMhxWI2V-T0HAAUU6h6W-07NCSABimg6wTA8pDAcEkq8CVI8fTQgf5B-bFtIpb6xsh9ZN90zsOCEzuVE-7gwmMyyBFrW-7FY3UbazJBBDeBlm--0TNoXl8joB-VkhQk9fy0FQqdyIPEQiao3FPHExSRNsXese29LTFkh2WotC1Y7wZ-Qa0BtuzXtnHlDcERBeVzLz9IynIzXWPIkpEz_04_kEBF0-TIG3OlaCkJN4TyGJX2Gz3plJBW90LfW1DBP-w4visouJXLcY9Iju6FNSR8zRqVnVwN6i6tIWL3mLDIwSmZ0owdBj-PN_mLjRqL6MY8GkP12xPDdzpNL3vCT9vLM_XzrBY44JToZOJLDKGyWZqLN96odAppVBT3zt_P4Cc_HkIHVFJ72lU7xqc70S3XHbNH1Bg74HeBySDDWsvZRWqLGhr6vwH-3F46FJJK6JQX9ciy8BVRBWFekN5WBXsidVScS__OE5IlU2_WSObkFbuk2JV6MwdV74jC53DfSOHbLVV0bge6lek8HGB0-UjH-N4z9JvirVFNBy9RFfRSecmDwz_ysy7IOT1gIIa9pfegOhCSwyPpuv09Vlt8OBZ2lzw6avbD04RRhmiUDWriwkPF49GtHjFMhGb8d5fv2ya3M2Rx50agpAVaQhfx9mVLr2cBSJTlKtyDSAtUMksfX0jWyBiV52hPKXIelmpep0-gZnuiMOOS75QubiMuGQnnBHixXOXBpZfuphjUecCVZHRrbW9WDxdCbP2-6WkUpaxkxQk8EJHn7QCqGFPlPnkOkQeEhIUx9Pb8MAyx2nl9CQ5Kscwh1B9G0UcefU-/download [following]\n",
      "--2019-05-24 10:25:10--  https://public.boxcloud.com/d/1/b1!I67yWOC4bBh92xQ9sZS2J97tRWl2HkNqO_6aSIbb9hGkolVM0xdOu7luEjEXANrldQc6xv5AQT_NLi8Vm_3awQZOCcqY5Migaar9UxMWHcAWGeV9tw82PVPdrBRSytfvm4HAgNemAf-Snm0tSRvaGFE15UrTo__SW0DYaXtqxPuR6ixptB27ZcZ3Qb70KwzliYsOcAvX_NNH4PbA9jOwKjNIXESB18W8p-v1HTJsjjRkVulF27BnAoqiBU9bzyhFxP739ZsAy7ig9Q1hcRFidLeZf_UoHRJ4PzGRZQIIftEHz4CYdDLQpq1FGvAZhUZ8F-wzgP2lXeggMzE7QYSUSdYXAmM4vckGWFdq0_bbdrHxqB0AVMk2X8dD8e-xpjQFG99MnrNKdfzty3yRoV5yAir1_ZpyEWVYEPNyvO9YNZRjYOMIRSXcQe73du8eNHz1A93CEfmBxk6H4dEK7I-IYftU9VBv0YOsUKmiGEZ6V6AEgX1U8b9mIcOjU1k5XpA9xnJeFhYH6QyO6_OIbfx9w1dYmU_5_qx74jREvjnMpfefKv0RtakvA9kzIVrMhxWI2V-T0HAAUU6h6W-07NCSABimg6wTA8pDAcEkq8CVI8fTQgf5B-bFtIpb6xsh9ZN90zsOCEzuVE-7gwmMyyBFrW-7FY3UbazJBBDeBlm--0TNoXl8joB-VkhQk9fy0FQqdyIPEQiao3FPHExSRNsXese29LTFkh2WotC1Y7wZ-Qa0BtuzXtnHlDcERBeVzLz9IynIzXWPIkpEz_04_kEBF0-TIG3OlaCkJN4TyGJX2Gz3plJBW90LfW1DBP-w4visouJXLcY9Iju6FNSR8zRqVnVwN6i6tIWL3mLDIwSmZ0owdBj-PN_mLjRqL6MY8GkP12xPDdzpNL3vCT9vLM_XzrBY44JToZOJLDKGyWZqLN96odAppVBT3zt_P4Cc_HkIHVFJ72lU7xqc70S3XHbNH1Bg74HeBySDDWsvZRWqLGhr6vwH-3F46FJJK6JQX9ciy8BVRBWFekN5WBXsidVScS__OE5IlU2_WSObkFbuk2JV6MwdV74jC53DfSOHbLVV0bge6lek8HGB0-UjH-N4z9JvirVFNBy9RFfRSecmDwz_ysy7IOT1gIIa9pfegOhCSwyPpuv09Vlt8OBZ2lzw6avbD04RRhmiUDWriwkPF49GtHjFMhGb8d5fv2ya3M2Rx50agpAVaQhfx9mVLr2cBSJTlKtyDSAtUMksfX0jWyBiV52hPKXIelmpep0-gZnuiMOOS75QubiMuGQnnBHixXOXBpZfuphjUecCVZHRrbW9WDxdCbP2-6WkUpaxkxQk8EJHn7QCqGFPlPnkOkQeEhIUx9Pb8MAyx2nl9CQ5Kscwh1B9G0UcefU-/download\n",
      "Resolving public.boxcloud.com (public.boxcloud.com)... 185.235.236.200\n",
      "Connecting to public.boxcloud.com (public.boxcloud.com)|185.235.236.200|:443... connected.\n",
      "HTTP request sent, awaiting response... 200 OK\n",
      "Length: 2891 (2.8K) [text/csv]\n",
      "Saving to: 'Geospatial_data.3'\n",
      "\n",
      "Geospatial_data.3   100%[===================>]   2.82K  --.-KB/s    in 0s      \n",
      "\n",
      "2019-05-24 10:25:11 (110 MB/s) - 'Geospatial_data.3' saved [2891/2891]\n",
      "\n"
     ]
    }
   ],
   "source": [
    "!wget http://cocl.us/Geospatial_data"
   ]
  },
  {
   "cell_type": "code",
   "execution_count": 17,
   "metadata": {},
   "outputs": [
    {
     "data": {
      "text/html": [
       "<div>\n",
       "<style scoped>\n",
       "    .dataframe tbody tr th:only-of-type {\n",
       "        vertical-align: middle;\n",
       "    }\n",
       "\n",
       "    .dataframe tbody tr th {\n",
       "        vertical-align: top;\n",
       "    }\n",
       "\n",
       "    .dataframe thead th {\n",
       "        text-align: right;\n",
       "    }\n",
       "</style>\n",
       "<table border=\"1\" class=\"dataframe\">\n",
       "  <thead>\n",
       "    <tr style=\"text-align: right;\">\n",
       "      <th></th>\n",
       "      <th>GPS_Lat</th>\n",
       "      <th>GPS_Lon</th>\n",
       "    </tr>\n",
       "    <tr>\n",
       "      <th>PostalCode</th>\n",
       "      <th></th>\n",
       "      <th></th>\n",
       "    </tr>\n",
       "  </thead>\n",
       "  <tbody>\n",
       "    <tr>\n",
       "      <th>M1B</th>\n",
       "      <td>43.806686</td>\n",
       "      <td>-79.194353</td>\n",
       "    </tr>\n",
       "    <tr>\n",
       "      <th>M1C</th>\n",
       "      <td>43.784535</td>\n",
       "      <td>-79.160497</td>\n",
       "    </tr>\n",
       "    <tr>\n",
       "      <th>M1E</th>\n",
       "      <td>43.763573</td>\n",
       "      <td>-79.188711</td>\n",
       "    </tr>\n",
       "    <tr>\n",
       "      <th>M1G</th>\n",
       "      <td>43.770992</td>\n",
       "      <td>-79.216917</td>\n",
       "    </tr>\n",
       "    <tr>\n",
       "      <th>M1H</th>\n",
       "      <td>43.773136</td>\n",
       "      <td>-79.239476</td>\n",
       "    </tr>\n",
       "  </tbody>\n",
       "</table>\n",
       "</div>"
      ],
      "text/plain": [
       "              GPS_Lat    GPS_Lon\n",
       "PostalCode                      \n",
       "M1B         43.806686 -79.194353\n",
       "M1C         43.784535 -79.160497\n",
       "M1E         43.763573 -79.188711\n",
       "M1G         43.770992 -79.216917\n",
       "M1H         43.773136 -79.239476"
      ]
     },
     "execution_count": 17,
     "metadata": {},
     "output_type": "execute_result"
    }
   ],
   "source": [
    "# reading the csv file with GPS-coordinates into a dataframe\n",
    "gps_df = pd.read_csv('Geospatial_data')\n",
    "gps_df.columns=['PostalCode', 'GPS_Lat', 'GPS_Lon']\n",
    "gps_df = gps_df.set_index('PostalCode')\n",
    "gps_df.head()"
   ]
  },
  {
   "cell_type": "code",
   "execution_count": 18,
   "metadata": {},
   "outputs": [
    {
     "data": {
      "text/html": [
       "<div>\n",
       "<style scoped>\n",
       "    .dataframe tbody tr th:only-of-type {\n",
       "        vertical-align: middle;\n",
       "    }\n",
       "\n",
       "    .dataframe tbody tr th {\n",
       "        vertical-align: top;\n",
       "    }\n",
       "\n",
       "    .dataframe thead th {\n",
       "        text-align: right;\n",
       "    }\n",
       "</style>\n",
       "<table border=\"1\" class=\"dataframe\">\n",
       "  <thead>\n",
       "    <tr style=\"text-align: right;\">\n",
       "      <th></th>\n",
       "      <th>PostalCode</th>\n",
       "      <th>Borough</th>\n",
       "      <th>Neighbourhood</th>\n",
       "      <th>GPS_Lat</th>\n",
       "      <th>GPS_Lon</th>\n",
       "    </tr>\n",
       "  </thead>\n",
       "  <tbody>\n",
       "    <tr>\n",
       "      <th>0</th>\n",
       "      <td>M1B</td>\n",
       "      <td>Scarborough</td>\n",
       "      <td>Rouge,Malvern</td>\n",
       "      <td>43.806686</td>\n",
       "      <td>-79.194353</td>\n",
       "    </tr>\n",
       "    <tr>\n",
       "      <th>1</th>\n",
       "      <td>M1C</td>\n",
       "      <td>Scarborough</td>\n",
       "      <td>Highland Creek,Rouge Hill,Port Union</td>\n",
       "      <td>43.784535</td>\n",
       "      <td>-79.160497</td>\n",
       "    </tr>\n",
       "    <tr>\n",
       "      <th>2</th>\n",
       "      <td>M1E</td>\n",
       "      <td>Scarborough</td>\n",
       "      <td>Guildwood,Morningside,West Hill</td>\n",
       "      <td>43.763573</td>\n",
       "      <td>-79.188711</td>\n",
       "    </tr>\n",
       "    <tr>\n",
       "      <th>3</th>\n",
       "      <td>M1G</td>\n",
       "      <td>Scarborough</td>\n",
       "      <td>Woburn</td>\n",
       "      <td>43.770992</td>\n",
       "      <td>-79.216917</td>\n",
       "    </tr>\n",
       "    <tr>\n",
       "      <th>4</th>\n",
       "      <td>M1H</td>\n",
       "      <td>Scarborough</td>\n",
       "      <td>Cedarbrae</td>\n",
       "      <td>43.773136</td>\n",
       "      <td>-79.239476</td>\n",
       "    </tr>\n",
       "  </tbody>\n",
       "</table>\n",
       "</div>"
      ],
      "text/plain": [
       "  PostalCode      Borough                         Neighbourhood    GPS_Lat  \\\n",
       "0        M1B  Scarborough                         Rouge,Malvern  43.806686   \n",
       "1        M1C  Scarborough  Highland Creek,Rouge Hill,Port Union  43.784535   \n",
       "2        M1E  Scarborough       Guildwood,Morningside,West Hill  43.763573   \n",
       "3        M1G  Scarborough                                Woburn  43.770992   \n",
       "4        M1H  Scarborough                             Cedarbrae  43.773136   \n",
       "\n",
       "     GPS_Lon  \n",
       "0 -79.194353  \n",
       "1 -79.160497  \n",
       "2 -79.188711  \n",
       "3 -79.216917  \n",
       "4 -79.239476  "
      ]
     },
     "execution_count": 18,
     "metadata": {},
     "output_type": "execute_result"
    }
   ],
   "source": [
    "# merge both tables (gps_df with table_df)\n",
    "table_gps_df = pd.merge(table_df, gps_df, on = 'PostalCode')\n",
    "table_gps_df.head()"
   ]
  },
  {
   "cell_type": "code",
   "execution_count": 19,
   "metadata": {},
   "outputs": [],
   "source": [
    "import folium"
   ]
  },
  {
   "cell_type": "code",
   "execution_count": 20,
   "metadata": {},
   "outputs": [
    {
     "data": {
      "text/html": [
       "<div>\n",
       "<style scoped>\n",
       "    .dataframe tbody tr th:only-of-type {\n",
       "        vertical-align: middle;\n",
       "    }\n",
       "\n",
       "    .dataframe tbody tr th {\n",
       "        vertical-align: top;\n",
       "    }\n",
       "\n",
       "    .dataframe thead th {\n",
       "        text-align: right;\n",
       "    }\n",
       "</style>\n",
       "<table border=\"1\" class=\"dataframe\">\n",
       "  <thead>\n",
       "    <tr style=\"text-align: right;\">\n",
       "      <th></th>\n",
       "      <th>PostalCode</th>\n",
       "      <th>Borough</th>\n",
       "      <th>Neighbourhood</th>\n",
       "      <th>GPS_Lat</th>\n",
       "      <th>GPS_Lon</th>\n",
       "    </tr>\n",
       "  </thead>\n",
       "  <tbody>\n",
       "    <tr>\n",
       "      <th>37</th>\n",
       "      <td>M4E</td>\n",
       "      <td>East Toronto</td>\n",
       "      <td>The Beaches</td>\n",
       "      <td>43.676357</td>\n",
       "      <td>-79.293031</td>\n",
       "    </tr>\n",
       "    <tr>\n",
       "      <th>41</th>\n",
       "      <td>M4K</td>\n",
       "      <td>East Toronto</td>\n",
       "      <td>The Danforth West,Riverdale</td>\n",
       "      <td>43.679557</td>\n",
       "      <td>-79.352188</td>\n",
       "    </tr>\n",
       "    <tr>\n",
       "      <th>42</th>\n",
       "      <td>M4L</td>\n",
       "      <td>East Toronto</td>\n",
       "      <td>The Beaches West,India Bazaar</td>\n",
       "      <td>43.668999</td>\n",
       "      <td>-79.315572</td>\n",
       "    </tr>\n",
       "    <tr>\n",
       "      <th>43</th>\n",
       "      <td>M4M</td>\n",
       "      <td>East Toronto</td>\n",
       "      <td>Studio District</td>\n",
       "      <td>43.659526</td>\n",
       "      <td>-79.340923</td>\n",
       "    </tr>\n",
       "    <tr>\n",
       "      <th>44</th>\n",
       "      <td>M4N</td>\n",
       "      <td>Central Toronto</td>\n",
       "      <td>Lawrence Park</td>\n",
       "      <td>43.728020</td>\n",
       "      <td>-79.388790</td>\n",
       "    </tr>\n",
       "    <tr>\n",
       "      <th>45</th>\n",
       "      <td>M4P</td>\n",
       "      <td>Central Toronto</td>\n",
       "      <td>Davisville North</td>\n",
       "      <td>43.712751</td>\n",
       "      <td>-79.390197</td>\n",
       "    </tr>\n",
       "    <tr>\n",
       "      <th>46</th>\n",
       "      <td>M4R</td>\n",
       "      <td>Central Toronto</td>\n",
       "      <td>North Toronto West</td>\n",
       "      <td>43.715383</td>\n",
       "      <td>-79.405678</td>\n",
       "    </tr>\n",
       "    <tr>\n",
       "      <th>47</th>\n",
       "      <td>M4S</td>\n",
       "      <td>Central Toronto</td>\n",
       "      <td>Davisville</td>\n",
       "      <td>43.704324</td>\n",
       "      <td>-79.388790</td>\n",
       "    </tr>\n",
       "    <tr>\n",
       "      <th>48</th>\n",
       "      <td>M4T</td>\n",
       "      <td>Central Toronto</td>\n",
       "      <td>Moore Park,Summerhill East</td>\n",
       "      <td>43.689574</td>\n",
       "      <td>-79.383160</td>\n",
       "    </tr>\n",
       "    <tr>\n",
       "      <th>49</th>\n",
       "      <td>M4V</td>\n",
       "      <td>Central Toronto</td>\n",
       "      <td>Deer Park,Forest Hill SE,Rathnelly,South Hill,...</td>\n",
       "      <td>43.686412</td>\n",
       "      <td>-79.400049</td>\n",
       "    </tr>\n",
       "    <tr>\n",
       "      <th>50</th>\n",
       "      <td>M4W</td>\n",
       "      <td>Downtown Toronto</td>\n",
       "      <td>Rosedale</td>\n",
       "      <td>43.679563</td>\n",
       "      <td>-79.377529</td>\n",
       "    </tr>\n",
       "    <tr>\n",
       "      <th>51</th>\n",
       "      <td>M4X</td>\n",
       "      <td>Downtown Toronto</td>\n",
       "      <td>Cabbagetown,St. James Town</td>\n",
       "      <td>43.667967</td>\n",
       "      <td>-79.367675</td>\n",
       "    </tr>\n",
       "    <tr>\n",
       "      <th>52</th>\n",
       "      <td>M4Y</td>\n",
       "      <td>Downtown Toronto</td>\n",
       "      <td>Church and Wellesley</td>\n",
       "      <td>43.665860</td>\n",
       "      <td>-79.383160</td>\n",
       "    </tr>\n",
       "    <tr>\n",
       "      <th>53</th>\n",
       "      <td>M5A</td>\n",
       "      <td>Downtown Toronto</td>\n",
       "      <td>Harbourfront,Regent Park</td>\n",
       "      <td>43.654260</td>\n",
       "      <td>-79.360636</td>\n",
       "    </tr>\n",
       "    <tr>\n",
       "      <th>54</th>\n",
       "      <td>M5B</td>\n",
       "      <td>Downtown Toronto</td>\n",
       "      <td>Ryerson,Garden District</td>\n",
       "      <td>43.657162</td>\n",
       "      <td>-79.378937</td>\n",
       "    </tr>\n",
       "  </tbody>\n",
       "</table>\n",
       "</div>"
      ],
      "text/plain": [
       "   PostalCode           Borough  \\\n",
       "37        M4E      East Toronto   \n",
       "41        M4K      East Toronto   \n",
       "42        M4L      East Toronto   \n",
       "43        M4M      East Toronto   \n",
       "44        M4N   Central Toronto   \n",
       "45        M4P   Central Toronto   \n",
       "46        M4R   Central Toronto   \n",
       "47        M4S   Central Toronto   \n",
       "48        M4T   Central Toronto   \n",
       "49        M4V   Central Toronto   \n",
       "50        M4W  Downtown Toronto   \n",
       "51        M4X  Downtown Toronto   \n",
       "52        M4Y  Downtown Toronto   \n",
       "53        M5A  Downtown Toronto   \n",
       "54        M5B  Downtown Toronto   \n",
       "\n",
       "                                        Neighbourhood    GPS_Lat    GPS_Lon  \n",
       "37                                        The Beaches  43.676357 -79.293031  \n",
       "41                        The Danforth West,Riverdale  43.679557 -79.352188  \n",
       "42                      The Beaches West,India Bazaar  43.668999 -79.315572  \n",
       "43                                    Studio District  43.659526 -79.340923  \n",
       "44                                      Lawrence Park  43.728020 -79.388790  \n",
       "45                                   Davisville North  43.712751 -79.390197  \n",
       "46                                 North Toronto West  43.715383 -79.405678  \n",
       "47                                         Davisville  43.704324 -79.388790  \n",
       "48                         Moore Park,Summerhill East  43.689574 -79.383160  \n",
       "49  Deer Park,Forest Hill SE,Rathnelly,South Hill,...  43.686412 -79.400049  \n",
       "50                                           Rosedale  43.679563 -79.377529  \n",
       "51                         Cabbagetown,St. James Town  43.667967 -79.367675  \n",
       "52                               Church and Wellesley  43.665860 -79.383160  \n",
       "53                           Harbourfront,Regent Park  43.654260 -79.360636  \n",
       "54                            Ryerson,Garden District  43.657162 -79.378937  "
      ]
     },
     "execution_count": 20,
     "metadata": {},
     "output_type": "execute_result"
    }
   ],
   "source": [
    "# create table \n",
    "canada_table_df = table_gps_df[table_gps_df['Borough'].str.contains('Toronto')]\n",
    "canada_table_df.head(15)"
   ]
  },
  {
   "cell_type": "code",
   "execution_count": 21,
   "metadata": {},
   "outputs": [],
   "source": [
    "# set gps coordinates for the map and the zoom level\n",
    "# 52 - M4Y - Downtown Toronto - Church and Wellesley - 43.665860 and -79.383160\n",
    "lat = 43.675860\n",
    "lon = -79.393160\n",
    "\n",
    "map_canda = folium.Map(location = [lat, lon], zoom_start = 12)"
   ]
  },
  {
   "cell_type": "code",
   "execution_count": 22,
   "metadata": {},
   "outputs": [
    {
     "data": {
      "text/html": [
       "<div style=\"width:100%;\"><div style=\"position:relative;width:100%;height:0;padding-bottom:60%;\"><iframe src=\"data:text/html;charset=utf-8;base64,PCFET0NUWVBFIGh0bWw+CjxoZWFkPiAgICAKICAgIDxtZXRhIGh0dHAtZXF1aXY9ImNvbnRlbnQtdHlwZSIgY29udGVudD0idGV4dC9odG1sOyBjaGFyc2V0PVVURi04IiAvPgogICAgPHNjcmlwdD5MX1BSRUZFUl9DQU5WQVM9ZmFsc2U7IExfTk9fVE9VQ0g9ZmFsc2U7IExfRElTQUJMRV8zRD1mYWxzZTs8L3NjcmlwdD4KICAgIDxzY3JpcHQgc3JjPSJodHRwczovL2Nkbi5qc2RlbGl2ci5uZXQvbnBtL2xlYWZsZXRAMS40LjAvZGlzdC9sZWFmbGV0LmpzIj48L3NjcmlwdD4KICAgIDxzY3JpcHQgc3JjPSJodHRwczovL2NvZGUuanF1ZXJ5LmNvbS9qcXVlcnktMS4xMi40Lm1pbi5qcyI+PC9zY3JpcHQ+CiAgICA8c2NyaXB0IHNyYz0iaHR0cHM6Ly9tYXhjZG4uYm9vdHN0cmFwY2RuLmNvbS9ib290c3RyYXAvMy4yLjAvanMvYm9vdHN0cmFwLm1pbi5qcyI+PC9zY3JpcHQ+CiAgICA8c2NyaXB0IHNyYz0iaHR0cHM6Ly9jZG5qcy5jbG91ZGZsYXJlLmNvbS9hamF4L2xpYnMvTGVhZmxldC5hd2Vzb21lLW1hcmtlcnMvMi4wLjIvbGVhZmxldC5hd2Vzb21lLW1hcmtlcnMuanMiPjwvc2NyaXB0PgogICAgPGxpbmsgcmVsPSJzdHlsZXNoZWV0IiBocmVmPSJodHRwczovL2Nkbi5qc2RlbGl2ci5uZXQvbnBtL2xlYWZsZXRAMS40LjAvZGlzdC9sZWFmbGV0LmNzcyIvPgogICAgPGxpbmsgcmVsPSJzdHlsZXNoZWV0IiBocmVmPSJodHRwczovL21heGNkbi5ib290c3RyYXBjZG4uY29tL2Jvb3RzdHJhcC8zLjIuMC9jc3MvYm9vdHN0cmFwLm1pbi5jc3MiLz4KICAgIDxsaW5rIHJlbD0ic3R5bGVzaGVldCIgaHJlZj0iaHR0cHM6Ly9tYXhjZG4uYm9vdHN0cmFwY2RuLmNvbS9ib290c3RyYXAvMy4yLjAvY3NzL2Jvb3RzdHJhcC10aGVtZS5taW4uY3NzIi8+CiAgICA8bGluayByZWw9InN0eWxlc2hlZXQiIGhyZWY9Imh0dHBzOi8vbWF4Y2RuLmJvb3RzdHJhcGNkbi5jb20vZm9udC1hd2Vzb21lLzQuNi4zL2Nzcy9mb250LWF3ZXNvbWUubWluLmNzcyIvPgogICAgPGxpbmsgcmVsPSJzdHlsZXNoZWV0IiBocmVmPSJodHRwczovL2NkbmpzLmNsb3VkZmxhcmUuY29tL2FqYXgvbGlicy9MZWFmbGV0LmF3ZXNvbWUtbWFya2Vycy8yLjAuMi9sZWFmbGV0LmF3ZXNvbWUtbWFya2Vycy5jc3MiLz4KICAgIDxsaW5rIHJlbD0ic3R5bGVzaGVldCIgaHJlZj0iaHR0cHM6Ly9yYXdjZG4uZ2l0aGFjay5jb20vcHl0aG9uLXZpc3VhbGl6YXRpb24vZm9saXVtL21hc3Rlci9mb2xpdW0vdGVtcGxhdGVzL2xlYWZsZXQuYXdlc29tZS5yb3RhdGUuY3NzIi8+CiAgICA8c3R5bGU+aHRtbCwgYm9keSB7d2lkdGg6IDEwMCU7aGVpZ2h0OiAxMDAlO21hcmdpbjogMDtwYWRkaW5nOiAwO308L3N0eWxlPgogICAgPHN0eWxlPiNtYXAge3Bvc2l0aW9uOmFic29sdXRlO3RvcDowO2JvdHRvbTowO3JpZ2h0OjA7bGVmdDowO308L3N0eWxlPgogICAgCiAgICA8bWV0YSBuYW1lPSJ2aWV3cG9ydCIgY29udGVudD0id2lkdGg9ZGV2aWNlLXdpZHRoLAogICAgICAgIGluaXRpYWwtc2NhbGU9MS4wLCBtYXhpbXVtLXNjYWxlPTEuMCwgdXNlci1zY2FsYWJsZT1ubyIgLz4KICAgIDxzdHlsZT4jbWFwX2MyOWUwMzAzMTAzMzQzMmNhN2JmZTljNDc3NTBhZGNhIHsKICAgICAgICBwb3NpdGlvbjogcmVsYXRpdmU7CiAgICAgICAgd2lkdGg6IDEwMC4wJTsKICAgICAgICBoZWlnaHQ6IDEwMC4wJTsKICAgICAgICBsZWZ0OiAwLjAlOwogICAgICAgIHRvcDogMC4wJTsKICAgICAgICB9CiAgICA8L3N0eWxlPgo8L2hlYWQ+Cjxib2R5PiAgICAKICAgIAogICAgPGRpdiBjbGFzcz0iZm9saXVtLW1hcCIgaWQ9Im1hcF9jMjllMDMwMzEwMzM0MzJjYTdiZmU5YzQ3NzUwYWRjYSIgPjwvZGl2Pgo8L2JvZHk+CjxzY3JpcHQ+ICAgIAogICAgCiAgICAKICAgICAgICB2YXIgYm91bmRzID0gbnVsbDsKICAgIAoKICAgIHZhciBtYXBfYzI5ZTAzMDMxMDMzNDMyY2E3YmZlOWM0Nzc1MGFkY2EgPSBMLm1hcCgKICAgICAgICAnbWFwX2MyOWUwMzAzMTAzMzQzMmNhN2JmZTljNDc3NTBhZGNhJywgewogICAgICAgIGNlbnRlcjogWzQzLjY3NTg2LCAtNzkuMzkzMTZdLAogICAgICAgIHpvb206IDEyLAogICAgICAgIG1heEJvdW5kczogYm91bmRzLAogICAgICAgIGxheWVyczogW10sCiAgICAgICAgd29ybGRDb3B5SnVtcDogZmFsc2UsCiAgICAgICAgY3JzOiBMLkNSUy5FUFNHMzg1NywKICAgICAgICB6b29tQ29udHJvbDogdHJ1ZSwKICAgICAgICB9KTsKCgogICAgCiAgICB2YXIgdGlsZV9sYXllcl9kMWVlYTMxNzZlOTQ0NTBmOTA3OTUyY2ViZTQxNzIxNyA9IEwudGlsZUxheWVyKAogICAgICAgICdodHRwczovL3tzfS50aWxlLm9wZW5zdHJlZXRtYXAub3JnL3t6fS97eH0ve3l9LnBuZycsCiAgICAgICAgewogICAgICAgICJhdHRyaWJ1dGlvbiI6IG51bGwsCiAgICAgICAgImRldGVjdFJldGluYSI6IGZhbHNlLAogICAgICAgICJtYXhOYXRpdmVab29tIjogMTgsCiAgICAgICAgIm1heFpvb20iOiAxOCwKICAgICAgICAibWluWm9vbSI6IDAsCiAgICAgICAgIm5vV3JhcCI6IGZhbHNlLAogICAgICAgICJvcGFjaXR5IjogMSwKICAgICAgICAic3ViZG9tYWlucyI6ICJhYmMiLAogICAgICAgICJ0bXMiOiBmYWxzZQp9KS5hZGRUbyhtYXBfYzI5ZTAzMDMxMDMzNDMyY2E3YmZlOWM0Nzc1MGFkY2EpOwogICAgCiAgICAgICAgICAgIHZhciBjaXJjbGVfbWFya2VyXzk5YzNiZmQxNzIyYTQzYWY5MWVlZGI1ZTIyZmJkZWMxID0gTC5jaXJjbGVNYXJrZXIoCiAgICAgICAgICAgICAgICBbNDMuNjc2MzU3Mzk5OTk5OTksIC03OS4yOTMwMzEyXSwKICAgICAgICAgICAgICAgIHsKICAiYnViYmxpbmdNb3VzZUV2ZW50cyI6IHRydWUsCiAgImNvbG9yIjogImJsdWUiLAogICJkYXNoQXJyYXkiOiBudWxsLAogICJkYXNoT2Zmc2V0IjogbnVsbCwKICAiZmlsbCI6IHRydWUsCiAgImZpbGxDb2xvciI6ICJsaWdodGNvcmFsIiwKICAiZmlsbE9wYWNpdHkiOiAwLjUsCiAgImZpbGxSdWxlIjogImV2ZW5vZGQiLAogICJsaW5lQ2FwIjogInJvdW5kIiwKICAibGluZUpvaW4iOiAicm91bmQiLAogICJvcGFjaXR5IjogMS4wLAogICJyYWRpdXMiOiA1LAogICJzdHJva2UiOiB0cnVlLAogICJ3ZWlnaHQiOiAzCn0KICAgICAgICAgICAgICAgICkKICAgICAgICAgICAgICAgIC5hZGRUbyhtYXBfYzI5ZTAzMDMxMDMzNDMyY2E3YmZlOWM0Nzc1MGFkY2EpOwogICAgICAgICAgICAKICAgIAogICAgICAgICAgICB2YXIgcG9wdXBfOTRhODE2YTM0NGMyNGJlNDkzYzlmMDgwYTljMjA5OGYgPSBMLnBvcHVwKHttYXhXaWR0aDogJzEwMCUnCiAgICAgICAgICAgIAogICAgICAgICAgICB9KTsKCiAgICAgICAgICAgIAogICAgICAgICAgICAgICAgdmFyIGh0bWxfMzY4OTgwMTI2ZjdkNDM3YmIyMjM0YmQzZDZkMzBiZDYgPSAkKGA8ZGl2IGlkPSJodG1sXzM2ODk4MDEyNmY3ZDQzN2JiMjIzNGJkM2Q2ZDMwYmQ2IiBzdHlsZT0id2lkdGg6IDEwMC4wJTsgaGVpZ2h0OiAxMDAuMCU7Ij5UaGUgQmVhY2hlczwvZGl2PmApWzBdOwogICAgICAgICAgICAgICAgcG9wdXBfOTRhODE2YTM0NGMyNGJlNDkzYzlmMDgwYTljMjA5OGYuc2V0Q29udGVudChodG1sXzM2ODk4MDEyNmY3ZDQzN2JiMjIzNGJkM2Q2ZDMwYmQ2KTsKICAgICAgICAgICAgCgogICAgICAgICAgICBjaXJjbGVfbWFya2VyXzk5YzNiZmQxNzIyYTQzYWY5MWVlZGI1ZTIyZmJkZWMxLmJpbmRQb3B1cChwb3B1cF85NGE4MTZhMzQ0YzI0YmU0OTNjOWYwODBhOWMyMDk4ZikKICAgICAgICAgICAgOwoKICAgICAgICAgICAgCiAgICAgICAgCiAgICAKICAgICAgICAgICAgdmFyIGNpcmNsZV9tYXJrZXJfMWUyYzM1ZjllZjlkNGRkZThhN2NiNWYyMWJkZjNiNDkgPSBMLmNpcmNsZU1hcmtlcigKICAgICAgICAgICAgICAgIFs0My42Nzk1NTcxLCAtNzkuMzUyMTg4XSwKICAgICAgICAgICAgICAgIHsKICAiYnViYmxpbmdNb3VzZUV2ZW50cyI6IHRydWUsCiAgImNvbG9yIjogImJsdWUiLAogICJkYXNoQXJyYXkiOiBudWxsLAogICJkYXNoT2Zmc2V0IjogbnVsbCwKICAiZmlsbCI6IHRydWUsCiAgImZpbGxDb2xvciI6ICJsaWdodGNvcmFsIiwKICAiZmlsbE9wYWNpdHkiOiAwLjUsCiAgImZpbGxSdWxlIjogImV2ZW5vZGQiLAogICJsaW5lQ2FwIjogInJvdW5kIiwKICAibGluZUpvaW4iOiAicm91bmQiLAogICJvcGFjaXR5IjogMS4wLAogICJyYWRpdXMiOiA1LAogICJzdHJva2UiOiB0cnVlLAogICJ3ZWlnaHQiOiAzCn0KICAgICAgICAgICAgICAgICkKICAgICAgICAgICAgICAgIC5hZGRUbyhtYXBfYzI5ZTAzMDMxMDMzNDMyY2E3YmZlOWM0Nzc1MGFkY2EpOwogICAgICAgICAgICAKICAgIAogICAgICAgICAgICB2YXIgcG9wdXBfNjBmN2YzNjYzY2NmNDIzZjllZWJlODE4OGI4ZjM4MWEgPSBMLnBvcHVwKHttYXhXaWR0aDogJzEwMCUnCiAgICAgICAgICAgIAogICAgICAgICAgICB9KTsKCiAgICAgICAgICAgIAogICAgICAgICAgICAgICAgdmFyIGh0bWxfZmY4NWJhNzJjZTM1NGQ4NDljOGI4NmYyOTU2MzkwZDkgPSAkKGA8ZGl2IGlkPSJodG1sX2ZmODViYTcyY2UzNTRkODQ5YzhiODZmMjk1NjM5MGQ5IiBzdHlsZT0id2lkdGg6IDEwMC4wJTsgaGVpZ2h0OiAxMDAuMCU7Ij5UaGUgRGFuZm9ydGggV2VzdCxSaXZlcmRhbGU8L2Rpdj5gKVswXTsKICAgICAgICAgICAgICAgIHBvcHVwXzYwZjdmMzY2M2NjZjQyM2Y5ZWViZTgxODhiOGYzODFhLnNldENvbnRlbnQoaHRtbF9mZjg1YmE3MmNlMzU0ZDg0OWM4Yjg2ZjI5NTYzOTBkOSk7CiAgICAgICAgICAgIAoKICAgICAgICAgICAgY2lyY2xlX21hcmtlcl8xZTJjMzVmOWVmOWQ0ZGRlOGE3Y2I1ZjIxYmRmM2I0OS5iaW5kUG9wdXAocG9wdXBfNjBmN2YzNjYzY2NmNDIzZjllZWJlODE4OGI4ZjM4MWEpCiAgICAgICAgICAgIDsKCiAgICAgICAgICAgIAogICAgICAgIAogICAgCiAgICAgICAgICAgIHZhciBjaXJjbGVfbWFya2VyX2RiYzU3MDM1MDVmZTRhYTc5ZWM1NzQ0M2UzZTU5ZjQyID0gTC5jaXJjbGVNYXJrZXIoCiAgICAgICAgICAgICAgICBbNDMuNjY4OTk4NSwgLTc5LjMxNTU3MTU5OTk5OTk4XSwKICAgICAgICAgICAgICAgIHsKICAiYnViYmxpbmdNb3VzZUV2ZW50cyI6IHRydWUsCiAgImNvbG9yIjogImJsdWUiLAogICJkYXNoQXJyYXkiOiBudWxsLAogICJkYXNoT2Zmc2V0IjogbnVsbCwKICAiZmlsbCI6IHRydWUsCiAgImZpbGxDb2xvciI6ICJsaWdodGNvcmFsIiwKICAiZmlsbE9wYWNpdHkiOiAwLjUsCiAgImZpbGxSdWxlIjogImV2ZW5vZGQiLAogICJsaW5lQ2FwIjogInJvdW5kIiwKICAibGluZUpvaW4iOiAicm91bmQiLAogICJvcGFjaXR5IjogMS4wLAogICJyYWRpdXMiOiA1LAogICJzdHJva2UiOiB0cnVlLAogICJ3ZWlnaHQiOiAzCn0KICAgICAgICAgICAgICAgICkKICAgICAgICAgICAgICAgIC5hZGRUbyhtYXBfYzI5ZTAzMDMxMDMzNDMyY2E3YmZlOWM0Nzc1MGFkY2EpOwogICAgICAgICAgICAKICAgIAogICAgICAgICAgICB2YXIgcG9wdXBfMDY5MzE1YzI0M2IzNGNjY2I1MjFjMGZlMDE5MWI1M2QgPSBMLnBvcHVwKHttYXhXaWR0aDogJzEwMCUnCiAgICAgICAgICAgIAogICAgICAgICAgICB9KTsKCiAgICAgICAgICAgIAogICAgICAgICAgICAgICAgdmFyIGh0bWxfZGI1YzFhZGUzYzEwNGQzOWFiMGZjMWFhZmU3OGI2MzYgPSAkKGA8ZGl2IGlkPSJodG1sX2RiNWMxYWRlM2MxMDRkMzlhYjBmYzFhYWZlNzhiNjM2IiBzdHlsZT0id2lkdGg6IDEwMC4wJTsgaGVpZ2h0OiAxMDAuMCU7Ij5UaGUgQmVhY2hlcyBXZXN0LEluZGlhIEJhemFhcjwvZGl2PmApWzBdOwogICAgICAgICAgICAgICAgcG9wdXBfMDY5MzE1YzI0M2IzNGNjY2I1MjFjMGZlMDE5MWI1M2Quc2V0Q29udGVudChodG1sX2RiNWMxYWRlM2MxMDRkMzlhYjBmYzFhYWZlNzhiNjM2KTsKICAgICAgICAgICAgCgogICAgICAgICAgICBjaXJjbGVfbWFya2VyX2RiYzU3MDM1MDVmZTRhYTc5ZWM1NzQ0M2UzZTU5ZjQyLmJpbmRQb3B1cChwb3B1cF8wNjkzMTVjMjQzYjM0Y2NjYjUyMWMwZmUwMTkxYjUzZCkKICAgICAgICAgICAgOwoKICAgICAgICAgICAgCiAgICAgICAgCiAgICAKICAgICAgICAgICAgdmFyIGNpcmNsZV9tYXJrZXJfOTA1ODIwYzU1OGU1NGJkNzg1MTRkNGYwNGVlY2IxMzYgPSBMLmNpcmNsZU1hcmtlcigKICAgICAgICAgICAgICAgIFs0My42NTk1MjU1LCAtNzkuMzQwOTIzXSwKICAgICAgICAgICAgICAgIHsKICAiYnViYmxpbmdNb3VzZUV2ZW50cyI6IHRydWUsCiAgImNvbG9yIjogImJsdWUiLAogICJkYXNoQXJyYXkiOiBudWxsLAogICJkYXNoT2Zmc2V0IjogbnVsbCwKICAiZmlsbCI6IHRydWUsCiAgImZpbGxDb2xvciI6ICJsaWdodGNvcmFsIiwKICAiZmlsbE9wYWNpdHkiOiAwLjUsCiAgImZpbGxSdWxlIjogImV2ZW5vZGQiLAogICJsaW5lQ2FwIjogInJvdW5kIiwKICAibGluZUpvaW4iOiAicm91bmQiLAogICJvcGFjaXR5IjogMS4wLAogICJyYWRpdXMiOiA1LAogICJzdHJva2UiOiB0cnVlLAogICJ3ZWlnaHQiOiAzCn0KICAgICAgICAgICAgICAgICkKICAgICAgICAgICAgICAgIC5hZGRUbyhtYXBfYzI5ZTAzMDMxMDMzNDMyY2E3YmZlOWM0Nzc1MGFkY2EpOwogICAgICAgICAgICAKICAgIAogICAgICAgICAgICB2YXIgcG9wdXBfNjVhMzk4ZTNmN2MzNGRmMmFiMTFhYTljNGM0YTQ3YzYgPSBMLnBvcHVwKHttYXhXaWR0aDogJzEwMCUnCiAgICAgICAgICAgIAogICAgICAgICAgICB9KTsKCiAgICAgICAgICAgIAogICAgICAgICAgICAgICAgdmFyIGh0bWxfMjVjNzIyZjhmNjVmNGI4NmJkYmYyYzE4MDY0ZWFhZTMgPSAkKGA8ZGl2IGlkPSJodG1sXzI1YzcyMmY4ZjY1ZjRiODZiZGJmMmMxODA2NGVhYWUzIiBzdHlsZT0id2lkdGg6IDEwMC4wJTsgaGVpZ2h0OiAxMDAuMCU7Ij5TdHVkaW8gRGlzdHJpY3Q8L2Rpdj5gKVswXTsKICAgICAgICAgICAgICAgIHBvcHVwXzY1YTM5OGUzZjdjMzRkZjJhYjExYWE5YzRjNGE0N2M2LnNldENvbnRlbnQoaHRtbF8yNWM3MjJmOGY2NWY0Yjg2YmRiZjJjMTgwNjRlYWFlMyk7CiAgICAgICAgICAgIAoKICAgICAgICAgICAgY2lyY2xlX21hcmtlcl85MDU4MjBjNTU4ZTU0YmQ3ODUxNGQ0ZjA0ZWVjYjEzNi5iaW5kUG9wdXAocG9wdXBfNjVhMzk4ZTNmN2MzNGRmMmFiMTFhYTljNGM0YTQ3YzYpCiAgICAgICAgICAgIDsKCiAgICAgICAgICAgIAogICAgICAgIAogICAgCiAgICAgICAgICAgIHZhciBjaXJjbGVfbWFya2VyXzE4NWZjZjgzNTAyMTQzOGJiMTYxNWVkMjkyMDQwNTIzID0gTC5jaXJjbGVNYXJrZXIoCiAgICAgICAgICAgICAgICBbNDMuNzI4MDIwNSwgLTc5LjM4ODc5MDFdLAogICAgICAgICAgICAgICAgewogICJidWJibGluZ01vdXNlRXZlbnRzIjogdHJ1ZSwKICAiY29sb3IiOiAiYmx1ZSIsCiAgImRhc2hBcnJheSI6IG51bGwsCiAgImRhc2hPZmZzZXQiOiBudWxsLAogICJmaWxsIjogdHJ1ZSwKICAiZmlsbENvbG9yIjogImxpZ2h0Y29yYWwiLAogICJmaWxsT3BhY2l0eSI6IDAuNSwKICAiZmlsbFJ1bGUiOiAiZXZlbm9kZCIsCiAgImxpbmVDYXAiOiAicm91bmQiLAogICJsaW5lSm9pbiI6ICJyb3VuZCIsCiAgIm9wYWNpdHkiOiAxLjAsCiAgInJhZGl1cyI6IDUsCiAgInN0cm9rZSI6IHRydWUsCiAgIndlaWdodCI6IDMKfQogICAgICAgICAgICAgICAgKQogICAgICAgICAgICAgICAgLmFkZFRvKG1hcF9jMjllMDMwMzEwMzM0MzJjYTdiZmU5YzQ3NzUwYWRjYSk7CiAgICAgICAgICAgIAogICAgCiAgICAgICAgICAgIHZhciBwb3B1cF82MTAwNDBlYTNmNDc0ZGUwOTZjNzlmNzlkMTVmY2VmZSA9IEwucG9wdXAoe21heFdpZHRoOiAnMTAwJScKICAgICAgICAgICAgCiAgICAgICAgICAgIH0pOwoKICAgICAgICAgICAgCiAgICAgICAgICAgICAgICB2YXIgaHRtbF83NjM1YzQ3NDZhMjg0ZDg1YTUzNjYzMjBkYzZkZmE4YSA9ICQoYDxkaXYgaWQ9Imh0bWxfNzYzNWM0NzQ2YTI4NGQ4NWE1MzY2MzIwZGM2ZGZhOGEiIHN0eWxlPSJ3aWR0aDogMTAwLjAlOyBoZWlnaHQ6IDEwMC4wJTsiPkxhd3JlbmNlIFBhcms8L2Rpdj5gKVswXTsKICAgICAgICAgICAgICAgIHBvcHVwXzYxMDA0MGVhM2Y0NzRkZTA5NmM3OWY3OWQxNWZjZWZlLnNldENvbnRlbnQoaHRtbF83NjM1YzQ3NDZhMjg0ZDg1YTUzNjYzMjBkYzZkZmE4YSk7CiAgICAgICAgICAgIAoKICAgICAgICAgICAgY2lyY2xlX21hcmtlcl8xODVmY2Y4MzUwMjE0MzhiYjE2MTVlZDI5MjA0MDUyMy5iaW5kUG9wdXAocG9wdXBfNjEwMDQwZWEzZjQ3NGRlMDk2Yzc5Zjc5ZDE1ZmNlZmUpCiAgICAgICAgICAgIDsKCiAgICAgICAgICAgIAogICAgICAgIAogICAgCiAgICAgICAgICAgIHZhciBjaXJjbGVfbWFya2VyXzg0MmNmNmFiODU1ZDQ5Zjg4MTliYTA3Yzc1MDk3Y2ZmID0gTC5jaXJjbGVNYXJrZXIoCiAgICAgICAgICAgICAgICBbNDMuNzEyNzUxMSwgLTc5LjM5MDE5NzVdLAogICAgICAgICAgICAgICAgewogICJidWJibGluZ01vdXNlRXZlbnRzIjogdHJ1ZSwKICAiY29sb3IiOiAiYmx1ZSIsCiAgImRhc2hBcnJheSI6IG51bGwsCiAgImRhc2hPZmZzZXQiOiBudWxsLAogICJmaWxsIjogdHJ1ZSwKICAiZmlsbENvbG9yIjogImxpZ2h0Y29yYWwiLAogICJmaWxsT3BhY2l0eSI6IDAuNSwKICAiZmlsbFJ1bGUiOiAiZXZlbm9kZCIsCiAgImxpbmVDYXAiOiAicm91bmQiLAogICJsaW5lSm9pbiI6ICJyb3VuZCIsCiAgIm9wYWNpdHkiOiAxLjAsCiAgInJhZGl1cyI6IDUsCiAgInN0cm9rZSI6IHRydWUsCiAgIndlaWdodCI6IDMKfQogICAgICAgICAgICAgICAgKQogICAgICAgICAgICAgICAgLmFkZFRvKG1hcF9jMjllMDMwMzEwMzM0MzJjYTdiZmU5YzQ3NzUwYWRjYSk7CiAgICAgICAgICAgIAogICAgCiAgICAgICAgICAgIHZhciBwb3B1cF82N2U2OGFhMTg4ZWI0YThkYmM3M2QxODk0MGJmYjk3OSA9IEwucG9wdXAoe21heFdpZHRoOiAnMTAwJScKICAgICAgICAgICAgCiAgICAgICAgICAgIH0pOwoKICAgICAgICAgICAgCiAgICAgICAgICAgICAgICB2YXIgaHRtbF83YThiOTJlOTYwYWY0YWQwYTcyZWY5ODU4NzliYzMxYiA9ICQoYDxkaXYgaWQ9Imh0bWxfN2E4YjkyZTk2MGFmNGFkMGE3MmVmOTg1ODc5YmMzMWIiIHN0eWxlPSJ3aWR0aDogMTAwLjAlOyBoZWlnaHQ6IDEwMC4wJTsiPkRhdmlzdmlsbGUgTm9ydGg8L2Rpdj5gKVswXTsKICAgICAgICAgICAgICAgIHBvcHVwXzY3ZTY4YWExODhlYjRhOGRiYzczZDE4OTQwYmZiOTc5LnNldENvbnRlbnQoaHRtbF83YThiOTJlOTYwYWY0YWQwYTcyZWY5ODU4NzliYzMxYik7CiAgICAgICAgICAgIAoKICAgICAgICAgICAgY2lyY2xlX21hcmtlcl84NDJjZjZhYjg1NWQ0OWY4ODE5YmEwN2M3NTA5N2NmZi5iaW5kUG9wdXAocG9wdXBfNjdlNjhhYTE4OGViNGE4ZGJjNzNkMTg5NDBiZmI5NzkpCiAgICAgICAgICAgIDsKCiAgICAgICAgICAgIAogICAgICAgIAogICAgCiAgICAgICAgICAgIHZhciBjaXJjbGVfbWFya2VyX2VkMDY2OTJmZjU5MjQxNzRiNWZiZTgxNWM0ZDczZGExID0gTC5jaXJjbGVNYXJrZXIoCiAgICAgICAgICAgICAgICBbNDMuNzE1MzgzNCwgLTc5LjQwNTY3ODQwMDAwMDAxXSwKICAgICAgICAgICAgICAgIHsKICAiYnViYmxpbmdNb3VzZUV2ZW50cyI6IHRydWUsCiAgImNvbG9yIjogImJsdWUiLAogICJkYXNoQXJyYXkiOiBudWxsLAogICJkYXNoT2Zmc2V0IjogbnVsbCwKICAiZmlsbCI6IHRydWUsCiAgImZpbGxDb2xvciI6ICJsaWdodGNvcmFsIiwKICAiZmlsbE9wYWNpdHkiOiAwLjUsCiAgImZpbGxSdWxlIjogImV2ZW5vZGQiLAogICJsaW5lQ2FwIjogInJvdW5kIiwKICAibGluZUpvaW4iOiAicm91bmQiLAogICJvcGFjaXR5IjogMS4wLAogICJyYWRpdXMiOiA1LAogICJzdHJva2UiOiB0cnVlLAogICJ3ZWlnaHQiOiAzCn0KICAgICAgICAgICAgICAgICkKICAgICAgICAgICAgICAgIC5hZGRUbyhtYXBfYzI5ZTAzMDMxMDMzNDMyY2E3YmZlOWM0Nzc1MGFkY2EpOwogICAgICAgICAgICAKICAgIAogICAgICAgICAgICB2YXIgcG9wdXBfNTFmMzhjNjE5NDczNDBiMGE3MjRhZTc4MTM5MGEyMGMgPSBMLnBvcHVwKHttYXhXaWR0aDogJzEwMCUnCiAgICAgICAgICAgIAogICAgICAgICAgICB9KTsKCiAgICAgICAgICAgIAogICAgICAgICAgICAgICAgdmFyIGh0bWxfYWM1NjBhN2Y1NDYwNDUzMjk3ZmFiZTUzMGIxOTQzZWQgPSAkKGA8ZGl2IGlkPSJodG1sX2FjNTYwYTdmNTQ2MDQ1MzI5N2ZhYmU1MzBiMTk0M2VkIiBzdHlsZT0id2lkdGg6IDEwMC4wJTsgaGVpZ2h0OiAxMDAuMCU7Ij5Ob3J0aCBUb3JvbnRvIFdlc3Q8L2Rpdj5gKVswXTsKICAgICAgICAgICAgICAgIHBvcHVwXzUxZjM4YzYxOTQ3MzQwYjBhNzI0YWU3ODEzOTBhMjBjLnNldENvbnRlbnQoaHRtbF9hYzU2MGE3ZjU0NjA0NTMyOTdmYWJlNTMwYjE5NDNlZCk7CiAgICAgICAgICAgIAoKICAgICAgICAgICAgY2lyY2xlX21hcmtlcl9lZDA2NjkyZmY1OTI0MTc0YjVmYmU4MTVjNGQ3M2RhMS5iaW5kUG9wdXAocG9wdXBfNTFmMzhjNjE5NDczNDBiMGE3MjRhZTc4MTM5MGEyMGMpCiAgICAgICAgICAgIDsKCiAgICAgICAgICAgIAogICAgICAgIAogICAgCiAgICAgICAgICAgIHZhciBjaXJjbGVfbWFya2VyXzU4ZTM1MDk1MjYzOTRkYjhiOWUxM2M1NDY5MTFjMzc5ID0gTC5jaXJjbGVNYXJrZXIoCiAgICAgICAgICAgICAgICBbNDMuNzA0MzI0NCwgLTc5LjM4ODc5MDFdLAogICAgICAgICAgICAgICAgewogICJidWJibGluZ01vdXNlRXZlbnRzIjogdHJ1ZSwKICAiY29sb3IiOiAiYmx1ZSIsCiAgImRhc2hBcnJheSI6IG51bGwsCiAgImRhc2hPZmZzZXQiOiBudWxsLAogICJmaWxsIjogdHJ1ZSwKICAiZmlsbENvbG9yIjogImxpZ2h0Y29yYWwiLAogICJmaWxsT3BhY2l0eSI6IDAuNSwKICAiZmlsbFJ1bGUiOiAiZXZlbm9kZCIsCiAgImxpbmVDYXAiOiAicm91bmQiLAogICJsaW5lSm9pbiI6ICJyb3VuZCIsCiAgIm9wYWNpdHkiOiAxLjAsCiAgInJhZGl1cyI6IDUsCiAgInN0cm9rZSI6IHRydWUsCiAgIndlaWdodCI6IDMKfQogICAgICAgICAgICAgICAgKQogICAgICAgICAgICAgICAgLmFkZFRvKG1hcF9jMjllMDMwMzEwMzM0MzJjYTdiZmU5YzQ3NzUwYWRjYSk7CiAgICAgICAgICAgIAogICAgCiAgICAgICAgICAgIHZhciBwb3B1cF8wY2ViYTZhOWZkNGU0MWQ0OGUxYzhlM2E3MmE3MTliYyA9IEwucG9wdXAoe21heFdpZHRoOiAnMTAwJScKICAgICAgICAgICAgCiAgICAgICAgICAgIH0pOwoKICAgICAgICAgICAgCiAgICAgICAgICAgICAgICB2YXIgaHRtbF85ZGMxN2QxZWYwYTQ0OTBkYmUzYTJjMzZiMThmODEyOCA9ICQoYDxkaXYgaWQ9Imh0bWxfOWRjMTdkMWVmMGE0NDkwZGJlM2EyYzM2YjE4ZjgxMjgiIHN0eWxlPSJ3aWR0aDogMTAwLjAlOyBoZWlnaHQ6IDEwMC4wJTsiPkRhdmlzdmlsbGU8L2Rpdj5gKVswXTsKICAgICAgICAgICAgICAgIHBvcHVwXzBjZWJhNmE5ZmQ0ZTQxZDQ4ZTFjOGUzYTcyYTcxOWJjLnNldENvbnRlbnQoaHRtbF85ZGMxN2QxZWYwYTQ0OTBkYmUzYTJjMzZiMThmODEyOCk7CiAgICAgICAgICAgIAoKICAgICAgICAgICAgY2lyY2xlX21hcmtlcl81OGUzNTA5NTI2Mzk0ZGI4YjllMTNjNTQ2OTExYzM3OS5iaW5kUG9wdXAocG9wdXBfMGNlYmE2YTlmZDRlNDFkNDhlMWM4ZTNhNzJhNzE5YmMpCiAgICAgICAgICAgIDsKCiAgICAgICAgICAgIAogICAgICAgIAogICAgCiAgICAgICAgICAgIHZhciBjaXJjbGVfbWFya2VyX2QwYmRkNTMwZDQwYjQ0ZDliNWI1ZThjNmJlZTFlMmNjID0gTC5jaXJjbGVNYXJrZXIoCiAgICAgICAgICAgICAgICBbNDMuNjg5NTc0MywgLTc5LjM4MzE1OTkwMDAwMDAxXSwKICAgICAgICAgICAgICAgIHsKICAiYnViYmxpbmdNb3VzZUV2ZW50cyI6IHRydWUsCiAgImNvbG9yIjogImJsdWUiLAogICJkYXNoQXJyYXkiOiBudWxsLAogICJkYXNoT2Zmc2V0IjogbnVsbCwKICAiZmlsbCI6IHRydWUsCiAgImZpbGxDb2xvciI6ICJsaWdodGNvcmFsIiwKICAiZmlsbE9wYWNpdHkiOiAwLjUsCiAgImZpbGxSdWxlIjogImV2ZW5vZGQiLAogICJsaW5lQ2FwIjogInJvdW5kIiwKICAibGluZUpvaW4iOiAicm91bmQiLAogICJvcGFjaXR5IjogMS4wLAogICJyYWRpdXMiOiA1LAogICJzdHJva2UiOiB0cnVlLAogICJ3ZWlnaHQiOiAzCn0KICAgICAgICAgICAgICAgICkKICAgICAgICAgICAgICAgIC5hZGRUbyhtYXBfYzI5ZTAzMDMxMDMzNDMyY2E3YmZlOWM0Nzc1MGFkY2EpOwogICAgICAgICAgICAKICAgIAogICAgICAgICAgICB2YXIgcG9wdXBfOGE3ZTAxODc1M2I0NGNlMGFiYTk5MWM3NGY4YTI1YjIgPSBMLnBvcHVwKHttYXhXaWR0aDogJzEwMCUnCiAgICAgICAgICAgIAogICAgICAgICAgICB9KTsKCiAgICAgICAgICAgIAogICAgICAgICAgICAgICAgdmFyIGh0bWxfYjhiNjVlNjIwMDBmNGIwMGJkMTM5YjlhY2NmYzI4YWEgPSAkKGA8ZGl2IGlkPSJodG1sX2I4YjY1ZTYyMDAwZjRiMDBiZDEzOWI5YWNjZmMyOGFhIiBzdHlsZT0id2lkdGg6IDEwMC4wJTsgaGVpZ2h0OiAxMDAuMCU7Ij5Nb29yZSBQYXJrLFN1bW1lcmhpbGwgRWFzdDwvZGl2PmApWzBdOwogICAgICAgICAgICAgICAgcG9wdXBfOGE3ZTAxODc1M2I0NGNlMGFiYTk5MWM3NGY4YTI1YjIuc2V0Q29udGVudChodG1sX2I4YjY1ZTYyMDAwZjRiMDBiZDEzOWI5YWNjZmMyOGFhKTsKICAgICAgICAgICAgCgogICAgICAgICAgICBjaXJjbGVfbWFya2VyX2QwYmRkNTMwZDQwYjQ0ZDliNWI1ZThjNmJlZTFlMmNjLmJpbmRQb3B1cChwb3B1cF84YTdlMDE4NzUzYjQ0Y2UwYWJhOTkxYzc0ZjhhMjViMikKICAgICAgICAgICAgOwoKICAgICAgICAgICAgCiAgICAgICAgCiAgICAKICAgICAgICAgICAgdmFyIGNpcmNsZV9tYXJrZXJfN2U4MjQxYzJiYTYwNDlhY2JjNDBkYzJhM2VkM2EzOTIgPSBMLmNpcmNsZU1hcmtlcigKICAgICAgICAgICAgICAgIFs0My42ODY0MTIyOTk5OTk5OSwgLTc5LjQwMDA0OTNdLAogICAgICAgICAgICAgICAgewogICJidWJibGluZ01vdXNlRXZlbnRzIjogdHJ1ZSwKICAiY29sb3IiOiAiYmx1ZSIsCiAgImRhc2hBcnJheSI6IG51bGwsCiAgImRhc2hPZmZzZXQiOiBudWxsLAogICJmaWxsIjogdHJ1ZSwKICAiZmlsbENvbG9yIjogImxpZ2h0Y29yYWwiLAogICJmaWxsT3BhY2l0eSI6IDAuNSwKICAiZmlsbFJ1bGUiOiAiZXZlbm9kZCIsCiAgImxpbmVDYXAiOiAicm91bmQiLAogICJsaW5lSm9pbiI6ICJyb3VuZCIsCiAgIm9wYWNpdHkiOiAxLjAsCiAgInJhZGl1cyI6IDUsCiAgInN0cm9rZSI6IHRydWUsCiAgIndlaWdodCI6IDMKfQogICAgICAgICAgICAgICAgKQogICAgICAgICAgICAgICAgLmFkZFRvKG1hcF9jMjllMDMwMzEwMzM0MzJjYTdiZmU5YzQ3NzUwYWRjYSk7CiAgICAgICAgICAgIAogICAgCiAgICAgICAgICAgIHZhciBwb3B1cF9jYzRlOTI0ZDU3ZjY0ZDI0OTZmZDg1OTAxODk3YmZhOCA9IEwucG9wdXAoe21heFdpZHRoOiAnMTAwJScKICAgICAgICAgICAgCiAgICAgICAgICAgIH0pOwoKICAgICAgICAgICAgCiAgICAgICAgICAgICAgICB2YXIgaHRtbF9mZDA4YWU4NWYyZmE0MDllOGQzYTYyMGJmYzlmYzlhYyA9ICQoYDxkaXYgaWQ9Imh0bWxfZmQwOGFlODVmMmZhNDA5ZThkM2E2MjBiZmM5ZmM5YWMiIHN0eWxlPSJ3aWR0aDogMTAwLjAlOyBoZWlnaHQ6IDEwMC4wJTsiPkRlZXIgUGFyayxGb3Jlc3QgSGlsbCBTRSxSYXRobmVsbHksU291dGggSGlsbCxTdW1tZXJoaWxsIFdlc3Q8L2Rpdj5gKVswXTsKICAgICAgICAgICAgICAgIHBvcHVwX2NjNGU5MjRkNTdmNjRkMjQ5NmZkODU5MDE4OTdiZmE4LnNldENvbnRlbnQoaHRtbF9mZDA4YWU4NWYyZmE0MDllOGQzYTYyMGJmYzlmYzlhYyk7CiAgICAgICAgICAgIAoKICAgICAgICAgICAgY2lyY2xlX21hcmtlcl83ZTgyNDFjMmJhNjA0OWFjYmM0MGRjMmEzZWQzYTM5Mi5iaW5kUG9wdXAocG9wdXBfY2M0ZTkyNGQ1N2Y2NGQyNDk2ZmQ4NTkwMTg5N2JmYTgpCiAgICAgICAgICAgIDsKCiAgICAgICAgICAgIAogICAgICAgIAogICAgCiAgICAgICAgICAgIHZhciBjaXJjbGVfbWFya2VyX2Q5OGEzZWIxMzk2ODRiYTJhOTczZmNjYTU5MWY4YTY1ID0gTC5jaXJjbGVNYXJrZXIoCiAgICAgICAgICAgICAgICBbNDMuNjc5NTYyNiwgLTc5LjM3NzUyOTQwMDAwMDAxXSwKICAgICAgICAgICAgICAgIHsKICAiYnViYmxpbmdNb3VzZUV2ZW50cyI6IHRydWUsCiAgImNvbG9yIjogImJsdWUiLAogICJkYXNoQXJyYXkiOiBudWxsLAogICJkYXNoT2Zmc2V0IjogbnVsbCwKICAiZmlsbCI6IHRydWUsCiAgImZpbGxDb2xvciI6ICJsaWdodGNvcmFsIiwKICAiZmlsbE9wYWNpdHkiOiAwLjUsCiAgImZpbGxSdWxlIjogImV2ZW5vZGQiLAogICJsaW5lQ2FwIjogInJvdW5kIiwKICAibGluZUpvaW4iOiAicm91bmQiLAogICJvcGFjaXR5IjogMS4wLAogICJyYWRpdXMiOiA1LAogICJzdHJva2UiOiB0cnVlLAogICJ3ZWlnaHQiOiAzCn0KICAgICAgICAgICAgICAgICkKICAgICAgICAgICAgICAgIC5hZGRUbyhtYXBfYzI5ZTAzMDMxMDMzNDMyY2E3YmZlOWM0Nzc1MGFkY2EpOwogICAgICAgICAgICAKICAgIAogICAgICAgICAgICB2YXIgcG9wdXBfMDQ0N2IzNGU3ZGNhNGI3M2E0MTNjNTM3YWExY2M0NjYgPSBMLnBvcHVwKHttYXhXaWR0aDogJzEwMCUnCiAgICAgICAgICAgIAogICAgICAgICAgICB9KTsKCiAgICAgICAgICAgIAogICAgICAgICAgICAgICAgdmFyIGh0bWxfODQ0OGY0NDcyMzhiNDRkM2FmMzU2YWRmZDg5OTk4N2IgPSAkKGA8ZGl2IGlkPSJodG1sXzg0NDhmNDQ3MjM4YjQ0ZDNhZjM1NmFkZmQ4OTk5ODdiIiBzdHlsZT0id2lkdGg6IDEwMC4wJTsgaGVpZ2h0OiAxMDAuMCU7Ij5Sb3NlZGFsZTwvZGl2PmApWzBdOwogICAgICAgICAgICAgICAgcG9wdXBfMDQ0N2IzNGU3ZGNhNGI3M2E0MTNjNTM3YWExY2M0NjYuc2V0Q29udGVudChodG1sXzg0NDhmNDQ3MjM4YjQ0ZDNhZjM1NmFkZmQ4OTk5ODdiKTsKICAgICAgICAgICAgCgogICAgICAgICAgICBjaXJjbGVfbWFya2VyX2Q5OGEzZWIxMzk2ODRiYTJhOTczZmNjYTU5MWY4YTY1LmJpbmRQb3B1cChwb3B1cF8wNDQ3YjM0ZTdkY2E0YjczYTQxM2M1MzdhYTFjYzQ2NikKICAgICAgICAgICAgOwoKICAgICAgICAgICAgCiAgICAgICAgCiAgICAKICAgICAgICAgICAgdmFyIGNpcmNsZV9tYXJrZXJfZjhjMTQ0OTE0ZDA5NDFhZWE2NWVkNWJmYTMyNTFmZmMgPSBMLmNpcmNsZU1hcmtlcigKICAgICAgICAgICAgICAgIFs0My42Njc5NjcsIC03OS4zNjc2NzUzXSwKICAgICAgICAgICAgICAgIHsKICAiYnViYmxpbmdNb3VzZUV2ZW50cyI6IHRydWUsCiAgImNvbG9yIjogImJsdWUiLAogICJkYXNoQXJyYXkiOiBudWxsLAogICJkYXNoT2Zmc2V0IjogbnVsbCwKICAiZmlsbCI6IHRydWUsCiAgImZpbGxDb2xvciI6ICJsaWdodGNvcmFsIiwKICAiZmlsbE9wYWNpdHkiOiAwLjUsCiAgImZpbGxSdWxlIjogImV2ZW5vZGQiLAogICJsaW5lQ2FwIjogInJvdW5kIiwKICAibGluZUpvaW4iOiAicm91bmQiLAogICJvcGFjaXR5IjogMS4wLAogICJyYWRpdXMiOiA1LAogICJzdHJva2UiOiB0cnVlLAogICJ3ZWlnaHQiOiAzCn0KICAgICAgICAgICAgICAgICkKICAgICAgICAgICAgICAgIC5hZGRUbyhtYXBfYzI5ZTAzMDMxMDMzNDMyY2E3YmZlOWM0Nzc1MGFkY2EpOwogICAgICAgICAgICAKICAgIAogICAgICAgICAgICB2YXIgcG9wdXBfNzQ2ZGZkNjIxMmUwNDBmNGEyMGU5NmYxMGE3ZjcyZmIgPSBMLnBvcHVwKHttYXhXaWR0aDogJzEwMCUnCiAgICAgICAgICAgIAogICAgICAgICAgICB9KTsKCiAgICAgICAgICAgIAogICAgICAgICAgICAgICAgdmFyIGh0bWxfZTYyMTEwZmUyNzVjNGEzZWE5ZmIzMjhlNWZhYzJlMzMgPSAkKGA8ZGl2IGlkPSJodG1sX2U2MjExMGZlMjc1YzRhM2VhOWZiMzI4ZTVmYWMyZTMzIiBzdHlsZT0id2lkdGg6IDEwMC4wJTsgaGVpZ2h0OiAxMDAuMCU7Ij5DYWJiYWdldG93bixTdC4gSmFtZXMgVG93bjwvZGl2PmApWzBdOwogICAgICAgICAgICAgICAgcG9wdXBfNzQ2ZGZkNjIxMmUwNDBmNGEyMGU5NmYxMGE3ZjcyZmIuc2V0Q29udGVudChodG1sX2U2MjExMGZlMjc1YzRhM2VhOWZiMzI4ZTVmYWMyZTMzKTsKICAgICAgICAgICAgCgogICAgICAgICAgICBjaXJjbGVfbWFya2VyX2Y4YzE0NDkxNGQwOTQxYWVhNjVlZDViZmEzMjUxZmZjLmJpbmRQb3B1cChwb3B1cF83NDZkZmQ2MjEyZTA0MGY0YTIwZTk2ZjEwYTdmNzJmYikKICAgICAgICAgICAgOwoKICAgICAgICAgICAgCiAgICAgICAgCiAgICAKICAgICAgICAgICAgdmFyIGNpcmNsZV9tYXJrZXJfMzc5MWE3OTY2Y2IwNDU0OGI1NTlhYzk2MTUzNjg3NDYgPSBMLmNpcmNsZU1hcmtlcigKICAgICAgICAgICAgICAgIFs0My42NjU4NTk5LCAtNzkuMzgzMTU5OTAwMDAwMDFdLAogICAgICAgICAgICAgICAgewogICJidWJibGluZ01vdXNlRXZlbnRzIjogdHJ1ZSwKICAiY29sb3IiOiAiYmx1ZSIsCiAgImRhc2hBcnJheSI6IG51bGwsCiAgImRhc2hPZmZzZXQiOiBudWxsLAogICJmaWxsIjogdHJ1ZSwKICAiZmlsbENvbG9yIjogImxpZ2h0Y29yYWwiLAogICJmaWxsT3BhY2l0eSI6IDAuNSwKICAiZmlsbFJ1bGUiOiAiZXZlbm9kZCIsCiAgImxpbmVDYXAiOiAicm91bmQiLAogICJsaW5lSm9pbiI6ICJyb3VuZCIsCiAgIm9wYWNpdHkiOiAxLjAsCiAgInJhZGl1cyI6IDUsCiAgInN0cm9rZSI6IHRydWUsCiAgIndlaWdodCI6IDMKfQogICAgICAgICAgICAgICAgKQogICAgICAgICAgICAgICAgLmFkZFRvKG1hcF9jMjllMDMwMzEwMzM0MzJjYTdiZmU5YzQ3NzUwYWRjYSk7CiAgICAgICAgICAgIAogICAgCiAgICAgICAgICAgIHZhciBwb3B1cF85NGU4MGIzZWZhMDg0ZGQ5YTM2NDNlZGEzMzU1ZmI0NyA9IEwucG9wdXAoe21heFdpZHRoOiAnMTAwJScKICAgICAgICAgICAgCiAgICAgICAgICAgIH0pOwoKICAgICAgICAgICAgCiAgICAgICAgICAgICAgICB2YXIgaHRtbF82NGYyZDE4NjQ5YTY0MTY5YWM1MzM1YThlYmFkOGVjMCA9ICQoYDxkaXYgaWQ9Imh0bWxfNjRmMmQxODY0OWE2NDE2OWFjNTMzNWE4ZWJhZDhlYzAiIHN0eWxlPSJ3aWR0aDogMTAwLjAlOyBoZWlnaHQ6IDEwMC4wJTsiPkNodXJjaCBhbmQgV2VsbGVzbGV5PC9kaXY+YClbMF07CiAgICAgICAgICAgICAgICBwb3B1cF85NGU4MGIzZWZhMDg0ZGQ5YTM2NDNlZGEzMzU1ZmI0Ny5zZXRDb250ZW50KGh0bWxfNjRmMmQxODY0OWE2NDE2OWFjNTMzNWE4ZWJhZDhlYzApOwogICAgICAgICAgICAKCiAgICAgICAgICAgIGNpcmNsZV9tYXJrZXJfMzc5MWE3OTY2Y2IwNDU0OGI1NTlhYzk2MTUzNjg3NDYuYmluZFBvcHVwKHBvcHVwXzk0ZTgwYjNlZmEwODRkZDlhMzY0M2VkYTMzNTVmYjQ3KQogICAgICAgICAgICA7CgogICAgICAgICAgICAKICAgICAgICAKICAgIAogICAgICAgICAgICB2YXIgY2lyY2xlX21hcmtlcl8wNDBkOWRjMjVhNDU0MmRhOWM4OWIyNzM3MmIyYjM3MCA9IEwuY2lyY2xlTWFya2VyKAogICAgICAgICAgICAgICAgWzQzLjY1NDI1OTksIC03OS4zNjA2MzU5XSwKICAgICAgICAgICAgICAgIHsKICAiYnViYmxpbmdNb3VzZUV2ZW50cyI6IHRydWUsCiAgImNvbG9yIjogImJsdWUiLAogICJkYXNoQXJyYXkiOiBudWxsLAogICJkYXNoT2Zmc2V0IjogbnVsbCwKICAiZmlsbCI6IHRydWUsCiAgImZpbGxDb2xvciI6ICJsaWdodGNvcmFsIiwKICAiZmlsbE9wYWNpdHkiOiAwLjUsCiAgImZpbGxSdWxlIjogImV2ZW5vZGQiLAogICJsaW5lQ2FwIjogInJvdW5kIiwKICAibGluZUpvaW4iOiAicm91bmQiLAogICJvcGFjaXR5IjogMS4wLAogICJyYWRpdXMiOiA1LAogICJzdHJva2UiOiB0cnVlLAogICJ3ZWlnaHQiOiAzCn0KICAgICAgICAgICAgICAgICkKICAgICAgICAgICAgICAgIC5hZGRUbyhtYXBfYzI5ZTAzMDMxMDMzNDMyY2E3YmZlOWM0Nzc1MGFkY2EpOwogICAgICAgICAgICAKICAgIAogICAgICAgICAgICB2YXIgcG9wdXBfNTQzZGNiM2I5MWYxNDAxYTlkOWQ4NGE1YjQ4YTQwNzQgPSBMLnBvcHVwKHttYXhXaWR0aDogJzEwMCUnCiAgICAgICAgICAgIAogICAgICAgICAgICB9KTsKCiAgICAgICAgICAgIAogICAgICAgICAgICAgICAgdmFyIGh0bWxfN2U2NTgyODg0MWVhNDBkNjlhYzNjNDM3ZWQ2ZGVlZWUgPSAkKGA8ZGl2IGlkPSJodG1sXzdlNjU4Mjg4NDFlYTQwZDY5YWMzYzQzN2VkNmRlZWVlIiBzdHlsZT0id2lkdGg6IDEwMC4wJTsgaGVpZ2h0OiAxMDAuMCU7Ij5IYXJib3VyZnJvbnQsUmVnZW50IFBhcms8L2Rpdj5gKVswXTsKICAgICAgICAgICAgICAgIHBvcHVwXzU0M2RjYjNiOTFmMTQwMWE5ZDlkODRhNWI0OGE0MDc0LnNldENvbnRlbnQoaHRtbF83ZTY1ODI4ODQxZWE0MGQ2OWFjM2M0MzdlZDZkZWVlZSk7CiAgICAgICAgICAgIAoKICAgICAgICAgICAgY2lyY2xlX21hcmtlcl8wNDBkOWRjMjVhNDU0MmRhOWM4OWIyNzM3MmIyYjM3MC5iaW5kUG9wdXAocG9wdXBfNTQzZGNiM2I5MWYxNDAxYTlkOWQ4NGE1YjQ4YTQwNzQpCiAgICAgICAgICAgIDsKCiAgICAgICAgICAgIAogICAgICAgIAogICAgCiAgICAgICAgICAgIHZhciBjaXJjbGVfbWFya2VyX2I0MWQ3ZDc4MGIzNTQxZmE4ZWFjMTY4NjBiNGE3OTk5ID0gTC5jaXJjbGVNYXJrZXIoCiAgICAgICAgICAgICAgICBbNDMuNjU3MTYxOCwgLTc5LjM3ODkzNzA5OTk5OTk5XSwKICAgICAgICAgICAgICAgIHsKICAiYnViYmxpbmdNb3VzZUV2ZW50cyI6IHRydWUsCiAgImNvbG9yIjogImJsdWUiLAogICJkYXNoQXJyYXkiOiBudWxsLAogICJkYXNoT2Zmc2V0IjogbnVsbCwKICAiZmlsbCI6IHRydWUsCiAgImZpbGxDb2xvciI6ICJsaWdodGNvcmFsIiwKICAiZmlsbE9wYWNpdHkiOiAwLjUsCiAgImZpbGxSdWxlIjogImV2ZW5vZGQiLAogICJsaW5lQ2FwIjogInJvdW5kIiwKICAibGluZUpvaW4iOiAicm91bmQiLAogICJvcGFjaXR5IjogMS4wLAogICJyYWRpdXMiOiA1LAogICJzdHJva2UiOiB0cnVlLAogICJ3ZWlnaHQiOiAzCn0KICAgICAgICAgICAgICAgICkKICAgICAgICAgICAgICAgIC5hZGRUbyhtYXBfYzI5ZTAzMDMxMDMzNDMyY2E3YmZlOWM0Nzc1MGFkY2EpOwogICAgICAgICAgICAKICAgIAogICAgICAgICAgICB2YXIgcG9wdXBfNGFkODliZGU0MjkzNGY5MTk4ZjVhYzg4YWMxNDhlMmIgPSBMLnBvcHVwKHttYXhXaWR0aDogJzEwMCUnCiAgICAgICAgICAgIAogICAgICAgICAgICB9KTsKCiAgICAgICAgICAgIAogICAgICAgICAgICAgICAgdmFyIGh0bWxfYjAyMTYwMWRjNDYxNGQyYWEzZDM5MzlhN2JlOGY2OWYgPSAkKGA8ZGl2IGlkPSJodG1sX2IwMjE2MDFkYzQ2MTRkMmFhM2QzOTM5YTdiZThmNjlmIiBzdHlsZT0id2lkdGg6IDEwMC4wJTsgaGVpZ2h0OiAxMDAuMCU7Ij5SeWVyc29uLEdhcmRlbiBEaXN0cmljdDwvZGl2PmApWzBdOwogICAgICAgICAgICAgICAgcG9wdXBfNGFkODliZGU0MjkzNGY5MTk4ZjVhYzg4YWMxNDhlMmIuc2V0Q29udGVudChodG1sX2IwMjE2MDFkYzQ2MTRkMmFhM2QzOTM5YTdiZThmNjlmKTsKICAgICAgICAgICAgCgogICAgICAgICAgICBjaXJjbGVfbWFya2VyX2I0MWQ3ZDc4MGIzNTQxZmE4ZWFjMTY4NjBiNGE3OTk5LmJpbmRQb3B1cChwb3B1cF80YWQ4OWJkZTQyOTM0ZjkxOThmNWFjODhhYzE0OGUyYikKICAgICAgICAgICAgOwoKICAgICAgICAgICAgCiAgICAgICAgCiAgICAKICAgICAgICAgICAgdmFyIGNpcmNsZV9tYXJrZXJfMzNiNDQxMmMzMWRhNDllZDlhZGIzODg4YWI4MzY3YWEgPSBMLmNpcmNsZU1hcmtlcigKICAgICAgICAgICAgICAgIFs0My42NTE0OTM5LCAtNzkuMzc1NDE3OV0sCiAgICAgICAgICAgICAgICB7CiAgImJ1YmJsaW5nTW91c2VFdmVudHMiOiB0cnVlLAogICJjb2xvciI6ICJibHVlIiwKICAiZGFzaEFycmF5IjogbnVsbCwKICAiZGFzaE9mZnNldCI6IG51bGwsCiAgImZpbGwiOiB0cnVlLAogICJmaWxsQ29sb3IiOiAibGlnaHRjb3JhbCIsCiAgImZpbGxPcGFjaXR5IjogMC41LAogICJmaWxsUnVsZSI6ICJldmVub2RkIiwKICAibGluZUNhcCI6ICJyb3VuZCIsCiAgImxpbmVKb2luIjogInJvdW5kIiwKICAib3BhY2l0eSI6IDEuMCwKICAicmFkaXVzIjogNSwKICAic3Ryb2tlIjogdHJ1ZSwKICAid2VpZ2h0IjogMwp9CiAgICAgICAgICAgICAgICApCiAgICAgICAgICAgICAgICAuYWRkVG8obWFwX2MyOWUwMzAzMTAzMzQzMmNhN2JmZTljNDc3NTBhZGNhKTsKICAgICAgICAgICAgCiAgICAKICAgICAgICAgICAgdmFyIHBvcHVwX2QwNTBlYzFmNjRmMzRlNjY5ZDBhZmVhMGI5MTA0NGUyID0gTC5wb3B1cCh7bWF4V2lkdGg6ICcxMDAlJwogICAgICAgICAgICAKICAgICAgICAgICAgfSk7CgogICAgICAgICAgICAKICAgICAgICAgICAgICAgIHZhciBodG1sXzE4YzNhMjRlOWQyYTRiMDE4ZWIyZTBlNGYyMzAwN2EyID0gJChgPGRpdiBpZD0iaHRtbF8xOGMzYTI0ZTlkMmE0YjAxOGViMmUwZTRmMjMwMDdhMiIgc3R5bGU9IndpZHRoOiAxMDAuMCU7IGhlaWdodDogMTAwLjAlOyI+U3QuIEphbWVzIFRvd248L2Rpdj5gKVswXTsKICAgICAgICAgICAgICAgIHBvcHVwX2QwNTBlYzFmNjRmMzRlNjY5ZDBhZmVhMGI5MTA0NGUyLnNldENvbnRlbnQoaHRtbF8xOGMzYTI0ZTlkMmE0YjAxOGViMmUwZTRmMjMwMDdhMik7CiAgICAgICAgICAgIAoKICAgICAgICAgICAgY2lyY2xlX21hcmtlcl8zM2I0NDEyYzMxZGE0OWVkOWFkYjM4ODhhYjgzNjdhYS5iaW5kUG9wdXAocG9wdXBfZDA1MGVjMWY2NGYzNGU2NjlkMGFmZWEwYjkxMDQ0ZTIpCiAgICAgICAgICAgIDsKCiAgICAgICAgICAgIAogICAgICAgIAogICAgCiAgICAgICAgICAgIHZhciBjaXJjbGVfbWFya2VyXzk3MmY5MzgzNDM4NTQ5YmNiNWVkZmFmMGQ3Mzg0ODdhID0gTC5jaXJjbGVNYXJrZXIoCiAgICAgICAgICAgICAgICBbNDMuNjQ0NzcwNzk5OTk5OTk2LCAtNzkuMzczMzA2NF0sCiAgICAgICAgICAgICAgICB7CiAgImJ1YmJsaW5nTW91c2VFdmVudHMiOiB0cnVlLAogICJjb2xvciI6ICJibHVlIiwKICAiZGFzaEFycmF5IjogbnVsbCwKICAiZGFzaE9mZnNldCI6IG51bGwsCiAgImZpbGwiOiB0cnVlLAogICJmaWxsQ29sb3IiOiAibGlnaHRjb3JhbCIsCiAgImZpbGxPcGFjaXR5IjogMC41LAogICJmaWxsUnVsZSI6ICJldmVub2RkIiwKICAibGluZUNhcCI6ICJyb3VuZCIsCiAgImxpbmVKb2luIjogInJvdW5kIiwKICAib3BhY2l0eSI6IDEuMCwKICAicmFkaXVzIjogNSwKICAic3Ryb2tlIjogdHJ1ZSwKICAid2VpZ2h0IjogMwp9CiAgICAgICAgICAgICAgICApCiAgICAgICAgICAgICAgICAuYWRkVG8obWFwX2MyOWUwMzAzMTAzMzQzMmNhN2JmZTljNDc3NTBhZGNhKTsKICAgICAgICAgICAgCiAgICAKICAgICAgICAgICAgdmFyIHBvcHVwXzcyNTExZmZhZWU0OTRlOGJhNTVkYzJjMzIzN2NmZDk5ID0gTC5wb3B1cCh7bWF4V2lkdGg6ICcxMDAlJwogICAgICAgICAgICAKICAgICAgICAgICAgfSk7CgogICAgICAgICAgICAKICAgICAgICAgICAgICAgIHZhciBodG1sX2MzNjU3MzM4MjA2MzRjZmJhMjEwZWQzNGMzMjY5NWJhID0gJChgPGRpdiBpZD0iaHRtbF9jMzY1NzMzODIwNjM0Y2ZiYTIxMGVkMzRjMzI2OTViYSIgc3R5bGU9IndpZHRoOiAxMDAuMCU7IGhlaWdodDogMTAwLjAlOyI+QmVyY3p5IFBhcms8L2Rpdj5gKVswXTsKICAgICAgICAgICAgICAgIHBvcHVwXzcyNTExZmZhZWU0OTRlOGJhNTVkYzJjMzIzN2NmZDk5LnNldENvbnRlbnQoaHRtbF9jMzY1NzMzODIwNjM0Y2ZiYTIxMGVkMzRjMzI2OTViYSk7CiAgICAgICAgICAgIAoKICAgICAgICAgICAgY2lyY2xlX21hcmtlcl85NzJmOTM4MzQzODU0OWJjYjVlZGZhZjBkNzM4NDg3YS5iaW5kUG9wdXAocG9wdXBfNzI1MTFmZmFlZTQ5NGU4YmE1NWRjMmMzMjM3Y2ZkOTkpCiAgICAgICAgICAgIDsKCiAgICAgICAgICAgIAogICAgICAgIAogICAgCiAgICAgICAgICAgIHZhciBjaXJjbGVfbWFya2VyXzk3NmI1MzQwNDg4MTRkMjJhMDNlNDU4YTIzNmVjZjY5ID0gTC5jaXJjbGVNYXJrZXIoCiAgICAgICAgICAgICAgICBbNDMuNjU3OTUyNCwgLTc5LjM4NzM4MjZdLAogICAgICAgICAgICAgICAgewogICJidWJibGluZ01vdXNlRXZlbnRzIjogdHJ1ZSwKICAiY29sb3IiOiAiYmx1ZSIsCiAgImRhc2hBcnJheSI6IG51bGwsCiAgImRhc2hPZmZzZXQiOiBudWxsLAogICJmaWxsIjogdHJ1ZSwKICAiZmlsbENvbG9yIjogImxpZ2h0Y29yYWwiLAogICJmaWxsT3BhY2l0eSI6IDAuNSwKICAiZmlsbFJ1bGUiOiAiZXZlbm9kZCIsCiAgImxpbmVDYXAiOiAicm91bmQiLAogICJsaW5lSm9pbiI6ICJyb3VuZCIsCiAgIm9wYWNpdHkiOiAxLjAsCiAgInJhZGl1cyI6IDUsCiAgInN0cm9rZSI6IHRydWUsCiAgIndlaWdodCI6IDMKfQogICAgICAgICAgICAgICAgKQogICAgICAgICAgICAgICAgLmFkZFRvKG1hcF9jMjllMDMwMzEwMzM0MzJjYTdiZmU5YzQ3NzUwYWRjYSk7CiAgICAgICAgICAgIAogICAgCiAgICAgICAgICAgIHZhciBwb3B1cF9iZWEwZGFlZDA0YTQ0ZWM5YTYxZDNiMjZiYjc2NmYyMiA9IEwucG9wdXAoe21heFdpZHRoOiAnMTAwJScKICAgICAgICAgICAgCiAgICAgICAgICAgIH0pOwoKICAgICAgICAgICAgCiAgICAgICAgICAgICAgICB2YXIgaHRtbF85ZGI0Y2U1NmEwNGU0MmUzYTM1ZmJlNGQ0NTRiODFlMSA9ICQoYDxkaXYgaWQ9Imh0bWxfOWRiNGNlNTZhMDRlNDJlM2EzNWZiZTRkNDU0YjgxZTEiIHN0eWxlPSJ3aWR0aDogMTAwLjAlOyBoZWlnaHQ6IDEwMC4wJTsiPkNlbnRyYWwgQmF5IFN0cmVldDwvZGl2PmApWzBdOwogICAgICAgICAgICAgICAgcG9wdXBfYmVhMGRhZWQwNGE0NGVjOWE2MWQzYjI2YmI3NjZmMjIuc2V0Q29udGVudChodG1sXzlkYjRjZTU2YTA0ZTQyZTNhMzVmYmU0ZDQ1NGI4MWUxKTsKICAgICAgICAgICAgCgogICAgICAgICAgICBjaXJjbGVfbWFya2VyXzk3NmI1MzQwNDg4MTRkMjJhMDNlNDU4YTIzNmVjZjY5LmJpbmRQb3B1cChwb3B1cF9iZWEwZGFlZDA0YTQ0ZWM5YTYxZDNiMjZiYjc2NmYyMikKICAgICAgICAgICAgOwoKICAgICAgICAgICAgCiAgICAgICAgCiAgICAKICAgICAgICAgICAgdmFyIGNpcmNsZV9tYXJrZXJfOTc3Mzc5NmM5NmFmNDM5MzgwOWUwZGVkZDhhM2ViMzYgPSBMLmNpcmNsZU1hcmtlcigKICAgICAgICAgICAgICAgIFs0My42NTA1NzEyMDAwMDAwMSwgLTc5LjM4NDU2NzVdLAogICAgICAgICAgICAgICAgewogICJidWJibGluZ01vdXNlRXZlbnRzIjogdHJ1ZSwKICAiY29sb3IiOiAiYmx1ZSIsCiAgImRhc2hBcnJheSI6IG51bGwsCiAgImRhc2hPZmZzZXQiOiBudWxsLAogICJmaWxsIjogdHJ1ZSwKICAiZmlsbENvbG9yIjogImxpZ2h0Y29yYWwiLAogICJmaWxsT3BhY2l0eSI6IDAuNSwKICAiZmlsbFJ1bGUiOiAiZXZlbm9kZCIsCiAgImxpbmVDYXAiOiAicm91bmQiLAogICJsaW5lSm9pbiI6ICJyb3VuZCIsCiAgIm9wYWNpdHkiOiAxLjAsCiAgInJhZGl1cyI6IDUsCiAgInN0cm9rZSI6IHRydWUsCiAgIndlaWdodCI6IDMKfQogICAgICAgICAgICAgICAgKQogICAgICAgICAgICAgICAgLmFkZFRvKG1hcF9jMjllMDMwMzEwMzM0MzJjYTdiZmU5YzQ3NzUwYWRjYSk7CiAgICAgICAgICAgIAogICAgCiAgICAgICAgICAgIHZhciBwb3B1cF8xMjUzZWY1MTRjOTA0YzdlYTRhNDJkMmNiYTJjM2U4MCA9IEwucG9wdXAoe21heFdpZHRoOiAnMTAwJScKICAgICAgICAgICAgCiAgICAgICAgICAgIH0pOwoKICAgICAgICAgICAgCiAgICAgICAgICAgICAgICB2YXIgaHRtbF9mZTQyNzIzMjhlZjA0Nzk3OTBhMzM0OTUwZjYwZDQxMiA9ICQoYDxkaXYgaWQ9Imh0bWxfZmU0MjcyMzI4ZWYwNDc5NzkwYTMzNDk1MGY2MGQ0MTIiIHN0eWxlPSJ3aWR0aDogMTAwLjAlOyBoZWlnaHQ6IDEwMC4wJTsiPkFkZWxhaWRlLEtpbmcsUmljaG1vbmQ8L2Rpdj5gKVswXTsKICAgICAgICAgICAgICAgIHBvcHVwXzEyNTNlZjUxNGM5MDRjN2VhNGE0MmQyY2JhMmMzZTgwLnNldENvbnRlbnQoaHRtbF9mZTQyNzIzMjhlZjA0Nzk3OTBhMzM0OTUwZjYwZDQxMik7CiAgICAgICAgICAgIAoKICAgICAgICAgICAgY2lyY2xlX21hcmtlcl85NzczNzk2Yzk2YWY0MzkzODA5ZTBkZWRkOGEzZWIzNi5iaW5kUG9wdXAocG9wdXBfMTI1M2VmNTE0YzkwNGM3ZWE0YTQyZDJjYmEyYzNlODApCiAgICAgICAgICAgIDsKCiAgICAgICAgICAgIAogICAgICAgIAogICAgCiAgICAgICAgICAgIHZhciBjaXJjbGVfbWFya2VyXzNmNWVlNTQ2MWNiMDQyYzZhZmRiMDY4NmVmODZmMDk1ID0gTC5jaXJjbGVNYXJrZXIoCiAgICAgICAgICAgICAgICBbNDMuNjQwODE1NywgLTc5LjM4MTc1MjI5OTk5OTk5XSwKICAgICAgICAgICAgICAgIHsKICAiYnViYmxpbmdNb3VzZUV2ZW50cyI6IHRydWUsCiAgImNvbG9yIjogImJsdWUiLAogICJkYXNoQXJyYXkiOiBudWxsLAogICJkYXNoT2Zmc2V0IjogbnVsbCwKICAiZmlsbCI6IHRydWUsCiAgImZpbGxDb2xvciI6ICJsaWdodGNvcmFsIiwKICAiZmlsbE9wYWNpdHkiOiAwLjUsCiAgImZpbGxSdWxlIjogImV2ZW5vZGQiLAogICJsaW5lQ2FwIjogInJvdW5kIiwKICAibGluZUpvaW4iOiAicm91bmQiLAogICJvcGFjaXR5IjogMS4wLAogICJyYWRpdXMiOiA1LAogICJzdHJva2UiOiB0cnVlLAogICJ3ZWlnaHQiOiAzCn0KICAgICAgICAgICAgICAgICkKICAgICAgICAgICAgICAgIC5hZGRUbyhtYXBfYzI5ZTAzMDMxMDMzNDMyY2E3YmZlOWM0Nzc1MGFkY2EpOwogICAgICAgICAgICAKICAgIAogICAgICAgICAgICB2YXIgcG9wdXBfOWFhNDY3YjA2MGQ5NDBmZTgzYmE0ZWJhMWMyMDFiNGUgPSBMLnBvcHVwKHttYXhXaWR0aDogJzEwMCUnCiAgICAgICAgICAgIAogICAgICAgICAgICB9KTsKCiAgICAgICAgICAgIAogICAgICAgICAgICAgICAgdmFyIGh0bWxfZjkzZWVlMjZhODliNDUwZWJlMjY1MTcwYjQ2ODJlYWQgPSAkKGA8ZGl2IGlkPSJodG1sX2Y5M2VlZTI2YTg5YjQ1MGViZTI2NTE3MGI0NjgyZWFkIiBzdHlsZT0id2lkdGg6IDEwMC4wJTsgaGVpZ2h0OiAxMDAuMCU7Ij5IYXJib3VyZnJvbnQgRWFzdCxUb3JvbnRvIElzbGFuZHMsVW5pb24gU3RhdGlvbjwvZGl2PmApWzBdOwogICAgICAgICAgICAgICAgcG9wdXBfOWFhNDY3YjA2MGQ5NDBmZTgzYmE0ZWJhMWMyMDFiNGUuc2V0Q29udGVudChodG1sX2Y5M2VlZTI2YTg5YjQ1MGViZTI2NTE3MGI0NjgyZWFkKTsKICAgICAgICAgICAgCgogICAgICAgICAgICBjaXJjbGVfbWFya2VyXzNmNWVlNTQ2MWNiMDQyYzZhZmRiMDY4NmVmODZmMDk1LmJpbmRQb3B1cChwb3B1cF85YWE0NjdiMDYwZDk0MGZlODNiYTRlYmExYzIwMWI0ZSkKICAgICAgICAgICAgOwoKICAgICAgICAgICAgCiAgICAgICAgCiAgICAKICAgICAgICAgICAgdmFyIGNpcmNsZV9tYXJrZXJfZTdhZDgzODhmZjZiNDNmMWIzNzQ0YTMzNjA5OGIzOGYgPSBMLmNpcmNsZU1hcmtlcigKICAgICAgICAgICAgICAgIFs0My42NDcxNzY4LCAtNzkuMzgxNTc2NDAwMDAwMDFdLAogICAgICAgICAgICAgICAgewogICJidWJibGluZ01vdXNlRXZlbnRzIjogdHJ1ZSwKICAiY29sb3IiOiAiYmx1ZSIsCiAgImRhc2hBcnJheSI6IG51bGwsCiAgImRhc2hPZmZzZXQiOiBudWxsLAogICJmaWxsIjogdHJ1ZSwKICAiZmlsbENvbG9yIjogImxpZ2h0Y29yYWwiLAogICJmaWxsT3BhY2l0eSI6IDAuNSwKICAiZmlsbFJ1bGUiOiAiZXZlbm9kZCIsCiAgImxpbmVDYXAiOiAicm91bmQiLAogICJsaW5lSm9pbiI6ICJyb3VuZCIsCiAgIm9wYWNpdHkiOiAxLjAsCiAgInJhZGl1cyI6IDUsCiAgInN0cm9rZSI6IHRydWUsCiAgIndlaWdodCI6IDMKfQogICAgICAgICAgICAgICAgKQogICAgICAgICAgICAgICAgLmFkZFRvKG1hcF9jMjllMDMwMzEwMzM0MzJjYTdiZmU5YzQ3NzUwYWRjYSk7CiAgICAgICAgICAgIAogICAgCiAgICAgICAgICAgIHZhciBwb3B1cF83YmM5YmI5MWZmYzk0Y2QyOTJiZjA1MjUxZmVkODRhMCA9IEwucG9wdXAoe21heFdpZHRoOiAnMTAwJScKICAgICAgICAgICAgCiAgICAgICAgICAgIH0pOwoKICAgICAgICAgICAgCiAgICAgICAgICAgICAgICB2YXIgaHRtbF8wZjljZDJlNjdiNWI0YzQ1OWY2YTUwNDIyMjgyODYxOSA9ICQoYDxkaXYgaWQ9Imh0bWxfMGY5Y2QyZTY3YjViNGM0NTlmNmE1MDQyMjI4Mjg2MTkiIHN0eWxlPSJ3aWR0aDogMTAwLjAlOyBoZWlnaHQ6IDEwMC4wJTsiPkRlc2lnbiBFeGNoYW5nZSxUb3JvbnRvIERvbWluaW9uIENlbnRyZTwvZGl2PmApWzBdOwogICAgICAgICAgICAgICAgcG9wdXBfN2JjOWJiOTFmZmM5NGNkMjkyYmYwNTI1MWZlZDg0YTAuc2V0Q29udGVudChodG1sXzBmOWNkMmU2N2I1YjRjNDU5ZjZhNTA0MjIyODI4NjE5KTsKICAgICAgICAgICAgCgogICAgICAgICAgICBjaXJjbGVfbWFya2VyX2U3YWQ4Mzg4ZmY2YjQzZjFiMzc0NGEzMzYwOThiMzhmLmJpbmRQb3B1cChwb3B1cF83YmM5YmI5MWZmYzk0Y2QyOTJiZjA1MjUxZmVkODRhMCkKICAgICAgICAgICAgOwoKICAgICAgICAgICAgCiAgICAgICAgCiAgICAKICAgICAgICAgICAgdmFyIGNpcmNsZV9tYXJrZXJfMDI1YzVmODZjNjVhNDUwZWI4NGNmZGQ2ZGViZTAxNTAgPSBMLmNpcmNsZU1hcmtlcigKICAgICAgICAgICAgICAgIFs0My42NDgxOTg1LCAtNzkuMzc5ODE2OTAwMDAwMDFdLAogICAgICAgICAgICAgICAgewogICJidWJibGluZ01vdXNlRXZlbnRzIjogdHJ1ZSwKICAiY29sb3IiOiAiYmx1ZSIsCiAgImRhc2hBcnJheSI6IG51bGwsCiAgImRhc2hPZmZzZXQiOiBudWxsLAogICJmaWxsIjogdHJ1ZSwKICAiZmlsbENvbG9yIjogImxpZ2h0Y29yYWwiLAogICJmaWxsT3BhY2l0eSI6IDAuNSwKICAiZmlsbFJ1bGUiOiAiZXZlbm9kZCIsCiAgImxpbmVDYXAiOiAicm91bmQiLAogICJsaW5lSm9pbiI6ICJyb3VuZCIsCiAgIm9wYWNpdHkiOiAxLjAsCiAgInJhZGl1cyI6IDUsCiAgInN0cm9rZSI6IHRydWUsCiAgIndlaWdodCI6IDMKfQogICAgICAgICAgICAgICAgKQogICAgICAgICAgICAgICAgLmFkZFRvKG1hcF9jMjllMDMwMzEwMzM0MzJjYTdiZmU5YzQ3NzUwYWRjYSk7CiAgICAgICAgICAgIAogICAgCiAgICAgICAgICAgIHZhciBwb3B1cF9iYTI1ZDIwZjU1MWQ0MmQyOWZkYWEzNDA4ODA4YzcxNyA9IEwucG9wdXAoe21heFdpZHRoOiAnMTAwJScKICAgICAgICAgICAgCiAgICAgICAgICAgIH0pOwoKICAgICAgICAgICAgCiAgICAgICAgICAgICAgICB2YXIgaHRtbF83ZWFjYjU3MDU3NjY0ODFkOGUwMmYwMzlmMDk5YWIyNCA9ICQoYDxkaXYgaWQ9Imh0bWxfN2VhY2I1NzA1NzY2NDgxZDhlMDJmMDM5ZjA5OWFiMjQiIHN0eWxlPSJ3aWR0aDogMTAwLjAlOyBoZWlnaHQ6IDEwMC4wJTsiPkNvbW1lcmNlIENvdXJ0LFZpY3RvcmlhIEhvdGVsPC9kaXY+YClbMF07CiAgICAgICAgICAgICAgICBwb3B1cF9iYTI1ZDIwZjU1MWQ0MmQyOWZkYWEzNDA4ODA4YzcxNy5zZXRDb250ZW50KGh0bWxfN2VhY2I1NzA1NzY2NDgxZDhlMDJmMDM5ZjA5OWFiMjQpOwogICAgICAgICAgICAKCiAgICAgICAgICAgIGNpcmNsZV9tYXJrZXJfMDI1YzVmODZjNjVhNDUwZWI4NGNmZGQ2ZGViZTAxNTAuYmluZFBvcHVwKHBvcHVwX2JhMjVkMjBmNTUxZDQyZDI5ZmRhYTM0MDg4MDhjNzE3KQogICAgICAgICAgICA7CgogICAgICAgICAgICAKICAgICAgICAKICAgIAogICAgICAgICAgICB2YXIgY2lyY2xlX21hcmtlcl8yNmJlMzVkODFkMmY0ZWQ5YTliMDliYjllYjU4Y2RiMSA9IEwuY2lyY2xlTWFya2VyKAogICAgICAgICAgICAgICAgWzQzLjcxMTY5NDgsIC03OS40MTY5MzU1OTk5OTk5OV0sCiAgICAgICAgICAgICAgICB7CiAgImJ1YmJsaW5nTW91c2VFdmVudHMiOiB0cnVlLAogICJjb2xvciI6ICJibHVlIiwKICAiZGFzaEFycmF5IjogbnVsbCwKICAiZGFzaE9mZnNldCI6IG51bGwsCiAgImZpbGwiOiB0cnVlLAogICJmaWxsQ29sb3IiOiAibGlnaHRjb3JhbCIsCiAgImZpbGxPcGFjaXR5IjogMC41LAogICJmaWxsUnVsZSI6ICJldmVub2RkIiwKICAibGluZUNhcCI6ICJyb3VuZCIsCiAgImxpbmVKb2luIjogInJvdW5kIiwKICAib3BhY2l0eSI6IDEuMCwKICAicmFkaXVzIjogNSwKICAic3Ryb2tlIjogdHJ1ZSwKICAid2VpZ2h0IjogMwp9CiAgICAgICAgICAgICAgICApCiAgICAgICAgICAgICAgICAuYWRkVG8obWFwX2MyOWUwMzAzMTAzMzQzMmNhN2JmZTljNDc3NTBhZGNhKTsKICAgICAgICAgICAgCiAgICAKICAgICAgICAgICAgdmFyIHBvcHVwX2QwOGM1NjUxYjRlYTQxYzNhNmE1MDliM2ExYTU3NzMxID0gTC5wb3B1cCh7bWF4V2lkdGg6ICcxMDAlJwogICAgICAgICAgICAKICAgICAgICAgICAgfSk7CgogICAgICAgICAgICAKICAgICAgICAgICAgICAgIHZhciBodG1sXzZhOTFmMjIwMjIyYjQ2MTRhY2E1MWY4MTc5NmEzZTE2ID0gJChgPGRpdiBpZD0iaHRtbF82YTkxZjIyMDIyMmI0NjE0YWNhNTFmODE3OTZhM2UxNiIgc3R5bGU9IndpZHRoOiAxMDAuMCU7IGhlaWdodDogMTAwLjAlOyI+Um9zZWxhd248L2Rpdj5gKVswXTsKICAgICAgICAgICAgICAgIHBvcHVwX2QwOGM1NjUxYjRlYTQxYzNhNmE1MDliM2ExYTU3NzMxLnNldENvbnRlbnQoaHRtbF82YTkxZjIyMDIyMmI0NjE0YWNhNTFmODE3OTZhM2UxNik7CiAgICAgICAgICAgIAoKICAgICAgICAgICAgY2lyY2xlX21hcmtlcl8yNmJlMzVkODFkMmY0ZWQ5YTliMDliYjllYjU4Y2RiMS5iaW5kUG9wdXAocG9wdXBfZDA4YzU2NTFiNGVhNDFjM2E2YTUwOWIzYTFhNTc3MzEpCiAgICAgICAgICAgIDsKCiAgICAgICAgICAgIAogICAgICAgIAogICAgCiAgICAgICAgICAgIHZhciBjaXJjbGVfbWFya2VyX2I5YWNlNGYxM2I0NzQ5MDc4ZTM3ZmNhZTZhZTM0NTM4ID0gTC5jaXJjbGVNYXJrZXIoCiAgICAgICAgICAgICAgICBbNDMuNjk2OTQ3NiwgLTc5LjQxMTMwNzIwMDAwMDAxXSwKICAgICAgICAgICAgICAgIHsKICAiYnViYmxpbmdNb3VzZUV2ZW50cyI6IHRydWUsCiAgImNvbG9yIjogImJsdWUiLAogICJkYXNoQXJyYXkiOiBudWxsLAogICJkYXNoT2Zmc2V0IjogbnVsbCwKICAiZmlsbCI6IHRydWUsCiAgImZpbGxDb2xvciI6ICJsaWdodGNvcmFsIiwKICAiZmlsbE9wYWNpdHkiOiAwLjUsCiAgImZpbGxSdWxlIjogImV2ZW5vZGQiLAogICJsaW5lQ2FwIjogInJvdW5kIiwKICAibGluZUpvaW4iOiAicm91bmQiLAogICJvcGFjaXR5IjogMS4wLAogICJyYWRpdXMiOiA1LAogICJzdHJva2UiOiB0cnVlLAogICJ3ZWlnaHQiOiAzCn0KICAgICAgICAgICAgICAgICkKICAgICAgICAgICAgICAgIC5hZGRUbyhtYXBfYzI5ZTAzMDMxMDMzNDMyY2E3YmZlOWM0Nzc1MGFkY2EpOwogICAgICAgICAgICAKICAgIAogICAgICAgICAgICB2YXIgcG9wdXBfYjRkZDUzYzRkNGRiNGQ1YmFlNzg5MjI0N2Q3Yjk1ZDQgPSBMLnBvcHVwKHttYXhXaWR0aDogJzEwMCUnCiAgICAgICAgICAgIAogICAgICAgICAgICB9KTsKCiAgICAgICAgICAgIAogICAgICAgICAgICAgICAgdmFyIGh0bWxfZGI4ODAwNTg2NjAxNDljN2FhNWJjOGYzODZiMGE3MWEgPSAkKGA8ZGl2IGlkPSJodG1sX2RiODgwMDU4NjYwMTQ5YzdhYTViYzhmMzg2YjBhNzFhIiBzdHlsZT0id2lkdGg6IDEwMC4wJTsgaGVpZ2h0OiAxMDAuMCU7Ij5Gb3Jlc3QgSGlsbCBOb3J0aCxGb3Jlc3QgSGlsbCBXZXN0PC9kaXY+YClbMF07CiAgICAgICAgICAgICAgICBwb3B1cF9iNGRkNTNjNGQ0ZGI0ZDViYWU3ODkyMjQ3ZDdiOTVkNC5zZXRDb250ZW50KGh0bWxfZGI4ODAwNTg2NjAxNDljN2FhNWJjOGYzODZiMGE3MWEpOwogICAgICAgICAgICAKCiAgICAgICAgICAgIGNpcmNsZV9tYXJrZXJfYjlhY2U0ZjEzYjQ3NDkwNzhlMzdmY2FlNmFlMzQ1MzguYmluZFBvcHVwKHBvcHVwX2I0ZGQ1M2M0ZDRkYjRkNWJhZTc4OTIyNDdkN2I5NWQ0KQogICAgICAgICAgICA7CgogICAgICAgICAgICAKICAgICAgICAKICAgIAogICAgICAgICAgICB2YXIgY2lyY2xlX21hcmtlcl8xNDAwMGVkNGE1YWU0MjA0OGMyOGRmMjc0MDJlYTY4NSA9IEwuY2lyY2xlTWFya2VyKAogICAgICAgICAgICAgICAgWzQzLjY3MjcwOTcsIC03OS40MDU2Nzg0MDAwMDAwMV0sCiAgICAgICAgICAgICAgICB7CiAgImJ1YmJsaW5nTW91c2VFdmVudHMiOiB0cnVlLAogICJjb2xvciI6ICJibHVlIiwKICAiZGFzaEFycmF5IjogbnVsbCwKICAiZGFzaE9mZnNldCI6IG51bGwsCiAgImZpbGwiOiB0cnVlLAogICJmaWxsQ29sb3IiOiAibGlnaHRjb3JhbCIsCiAgImZpbGxPcGFjaXR5IjogMC41LAogICJmaWxsUnVsZSI6ICJldmVub2RkIiwKICAibGluZUNhcCI6ICJyb3VuZCIsCiAgImxpbmVKb2luIjogInJvdW5kIiwKICAib3BhY2l0eSI6IDEuMCwKICAicmFkaXVzIjogNSwKICAic3Ryb2tlIjogdHJ1ZSwKICAid2VpZ2h0IjogMwp9CiAgICAgICAgICAgICAgICApCiAgICAgICAgICAgICAgICAuYWRkVG8obWFwX2MyOWUwMzAzMTAzMzQzMmNhN2JmZTljNDc3NTBhZGNhKTsKICAgICAgICAgICAgCiAgICAKICAgICAgICAgICAgdmFyIHBvcHVwXzI4NDNlNDFjYTg0YTRmOGQ5N2EwZWFiZjNmZmI5MTVkID0gTC5wb3B1cCh7bWF4V2lkdGg6ICcxMDAlJwogICAgICAgICAgICAKICAgICAgICAgICAgfSk7CgogICAgICAgICAgICAKICAgICAgICAgICAgICAgIHZhciBodG1sXzZhMDJkMjkyMmQ5MDQxZjdiMmJlYmI4NTcwM2M4ODA5ID0gJChgPGRpdiBpZD0iaHRtbF82YTAyZDI5MjJkOTA0MWY3YjJiZWJiODU3MDNjODgwOSIgc3R5bGU9IndpZHRoOiAxMDAuMCU7IGhlaWdodDogMTAwLjAlOyI+VGhlIEFubmV4LE5vcnRoIE1pZHRvd24sWW9ya3ZpbGxlPC9kaXY+YClbMF07CiAgICAgICAgICAgICAgICBwb3B1cF8yODQzZTQxY2E4NGE0ZjhkOTdhMGVhYmYzZmZiOTE1ZC5zZXRDb250ZW50KGh0bWxfNmEwMmQyOTIyZDkwNDFmN2IyYmViYjg1NzAzYzg4MDkpOwogICAgICAgICAgICAKCiAgICAgICAgICAgIGNpcmNsZV9tYXJrZXJfMTQwMDBlZDRhNWFlNDIwNDhjMjhkZjI3NDAyZWE2ODUuYmluZFBvcHVwKHBvcHVwXzI4NDNlNDFjYTg0YTRmOGQ5N2EwZWFiZjNmZmI5MTVkKQogICAgICAgICAgICA7CgogICAgICAgICAgICAKICAgICAgICAKICAgIAogICAgICAgICAgICB2YXIgY2lyY2xlX21hcmtlcl8wMmQ2YTcyNjczMTA0MWE2OGFmY2I5ZGRlNDY1NTlkZSA9IEwuY2lyY2xlTWFya2VyKAogICAgICAgICAgICAgICAgWzQzLjY2MjY5NTYsIC03OS40MDAwNDkzXSwKICAgICAgICAgICAgICAgIHsKICAiYnViYmxpbmdNb3VzZUV2ZW50cyI6IHRydWUsCiAgImNvbG9yIjogImJsdWUiLAogICJkYXNoQXJyYXkiOiBudWxsLAogICJkYXNoT2Zmc2V0IjogbnVsbCwKICAiZmlsbCI6IHRydWUsCiAgImZpbGxDb2xvciI6ICJsaWdodGNvcmFsIiwKICAiZmlsbE9wYWNpdHkiOiAwLjUsCiAgImZpbGxSdWxlIjogImV2ZW5vZGQiLAogICJsaW5lQ2FwIjogInJvdW5kIiwKICAibGluZUpvaW4iOiAicm91bmQiLAogICJvcGFjaXR5IjogMS4wLAogICJyYWRpdXMiOiA1LAogICJzdHJva2UiOiB0cnVlLAogICJ3ZWlnaHQiOiAzCn0KICAgICAgICAgICAgICAgICkKICAgICAgICAgICAgICAgIC5hZGRUbyhtYXBfYzI5ZTAzMDMxMDMzNDMyY2E3YmZlOWM0Nzc1MGFkY2EpOwogICAgICAgICAgICAKICAgIAogICAgICAgICAgICB2YXIgcG9wdXBfMTQxNmZiZDdhMmU3NGNhNjkxYTI0ZjExNGQ4NmNlYjEgPSBMLnBvcHVwKHttYXhXaWR0aDogJzEwMCUnCiAgICAgICAgICAgIAogICAgICAgICAgICB9KTsKCiAgICAgICAgICAgIAogICAgICAgICAgICAgICAgdmFyIGh0bWxfMTkyMGEwNDc4MzFiNGQwZWEzNzg0NTczNzBlNjVmZGIgPSAkKGA8ZGl2IGlkPSJodG1sXzE5MjBhMDQ3ODMxYjRkMGVhMzc4NDU3MzcwZTY1ZmRiIiBzdHlsZT0id2lkdGg6IDEwMC4wJTsgaGVpZ2h0OiAxMDAuMCU7Ij5IYXJib3JkLFVuaXZlcnNpdHkgb2YgVG9yb250bzwvZGl2PmApWzBdOwogICAgICAgICAgICAgICAgcG9wdXBfMTQxNmZiZDdhMmU3NGNhNjkxYTI0ZjExNGQ4NmNlYjEuc2V0Q29udGVudChodG1sXzE5MjBhMDQ3ODMxYjRkMGVhMzc4NDU3MzcwZTY1ZmRiKTsKICAgICAgICAgICAgCgogICAgICAgICAgICBjaXJjbGVfbWFya2VyXzAyZDZhNzI2NzMxMDQxYTY4YWZjYjlkZGU0NjU1OWRlLmJpbmRQb3B1cChwb3B1cF8xNDE2ZmJkN2EyZTc0Y2E2OTFhMjRmMTE0ZDg2Y2ViMSkKICAgICAgICAgICAgOwoKICAgICAgICAgICAgCiAgICAgICAgCiAgICAKICAgICAgICAgICAgdmFyIGNpcmNsZV9tYXJrZXJfZGUxNzIzMDk0MDUxNDg5YTk3ZTM5ZmVmNjE4ZmVmYzAgPSBMLmNpcmNsZU1hcmtlcigKICAgICAgICAgICAgICAgIFs0My42NTMyMDU3LCAtNzkuNDAwMDQ5M10sCiAgICAgICAgICAgICAgICB7CiAgImJ1YmJsaW5nTW91c2VFdmVudHMiOiB0cnVlLAogICJjb2xvciI6ICJibHVlIiwKICAiZGFzaEFycmF5IjogbnVsbCwKICAiZGFzaE9mZnNldCI6IG51bGwsCiAgImZpbGwiOiB0cnVlLAogICJmaWxsQ29sb3IiOiAibGlnaHRjb3JhbCIsCiAgImZpbGxPcGFjaXR5IjogMC41LAogICJmaWxsUnVsZSI6ICJldmVub2RkIiwKICAibGluZUNhcCI6ICJyb3VuZCIsCiAgImxpbmVKb2luIjogInJvdW5kIiwKICAib3BhY2l0eSI6IDEuMCwKICAicmFkaXVzIjogNSwKICAic3Ryb2tlIjogdHJ1ZSwKICAid2VpZ2h0IjogMwp9CiAgICAgICAgICAgICAgICApCiAgICAgICAgICAgICAgICAuYWRkVG8obWFwX2MyOWUwMzAzMTAzMzQzMmNhN2JmZTljNDc3NTBhZGNhKTsKICAgICAgICAgICAgCiAgICAKICAgICAgICAgICAgdmFyIHBvcHVwX2QzODJlZmMwZmQxNjQ3MjViZTFlMmUwNzRjYThlNzNlID0gTC5wb3B1cCh7bWF4V2lkdGg6ICcxMDAlJwogICAgICAgICAgICAKICAgICAgICAgICAgfSk7CgogICAgICAgICAgICAKICAgICAgICAgICAgICAgIHZhciBodG1sXzIxZmE4NzU1ODI5ODRmOGI4NjZkMmUzZmQ2MWNkMjFlID0gJChgPGRpdiBpZD0iaHRtbF8yMWZhODc1NTgyOTg0ZjhiODY2ZDJlM2ZkNjFjZDIxZSIgc3R5bGU9IndpZHRoOiAxMDAuMCU7IGhlaWdodDogMTAwLjAlOyI+Q2hpbmF0b3duLEdyYW5nZSBQYXJrLEtlbnNpbmd0b24gTWFya2V0PC9kaXY+YClbMF07CiAgICAgICAgICAgICAgICBwb3B1cF9kMzgyZWZjMGZkMTY0NzI1YmUxZTJlMDc0Y2E4ZTczZS5zZXRDb250ZW50KGh0bWxfMjFmYTg3NTU4Mjk4NGY4Yjg2NmQyZTNmZDYxY2QyMWUpOwogICAgICAgICAgICAKCiAgICAgICAgICAgIGNpcmNsZV9tYXJrZXJfZGUxNzIzMDk0MDUxNDg5YTk3ZTM5ZmVmNjE4ZmVmYzAuYmluZFBvcHVwKHBvcHVwX2QzODJlZmMwZmQxNjQ3MjViZTFlMmUwNzRjYThlNzNlKQogICAgICAgICAgICA7CgogICAgICAgICAgICAKICAgICAgICAKICAgIAogICAgICAgICAgICB2YXIgY2lyY2xlX21hcmtlcl83NGVhMGYxMzI5ZDI0YmY0YjFkZTM1Y2ZjMzYwN2M4NiA9IEwuY2lyY2xlTWFya2VyKAogICAgICAgICAgICAgICAgWzQzLjYyODk0NjcsIC03OS4zOTQ0MTk5XSwKICAgICAgICAgICAgICAgIHsKICAiYnViYmxpbmdNb3VzZUV2ZW50cyI6IHRydWUsCiAgImNvbG9yIjogImJsdWUiLAogICJkYXNoQXJyYXkiOiBudWxsLAogICJkYXNoT2Zmc2V0IjogbnVsbCwKICAiZmlsbCI6IHRydWUsCiAgImZpbGxDb2xvciI6ICJsaWdodGNvcmFsIiwKICAiZmlsbE9wYWNpdHkiOiAwLjUsCiAgImZpbGxSdWxlIjogImV2ZW5vZGQiLAogICJsaW5lQ2FwIjogInJvdW5kIiwKICAibGluZUpvaW4iOiAicm91bmQiLAogICJvcGFjaXR5IjogMS4wLAogICJyYWRpdXMiOiA1LAogICJzdHJva2UiOiB0cnVlLAogICJ3ZWlnaHQiOiAzCn0KICAgICAgICAgICAgICAgICkKICAgICAgICAgICAgICAgIC5hZGRUbyhtYXBfYzI5ZTAzMDMxMDMzNDMyY2E3YmZlOWM0Nzc1MGFkY2EpOwogICAgICAgICAgICAKICAgIAogICAgICAgICAgICB2YXIgcG9wdXBfZTMxZjhmYjBkMTVkNDQwZmE3MmRjYTRhOTE0OGI5ZjggPSBMLnBvcHVwKHttYXhXaWR0aDogJzEwMCUnCiAgICAgICAgICAgIAogICAgICAgICAgICB9KTsKCiAgICAgICAgICAgIAogICAgICAgICAgICAgICAgdmFyIGh0bWxfNDAwYWNmMGRmYjJmNDBlYmJhNTNlNjZjN2I4ZTdiMmEgPSAkKGA8ZGl2IGlkPSJodG1sXzQwMGFjZjBkZmIyZjQwZWJiYTUzZTY2YzdiOGU3YjJhIiBzdHlsZT0id2lkdGg6IDEwMC4wJTsgaGVpZ2h0OiAxMDAuMCU7Ij5DTiBUb3dlcixCYXRodXJzdCBRdWF5LElzbGFuZCBhaXJwb3J0LEhhcmJvdXJmcm9udCBXZXN0LEtpbmcgYW5kIFNwYWRpbmEsUmFpbHdheSBMYW5kcyxTb3V0aCBOaWFnYXJhPC9kaXY+YClbMF07CiAgICAgICAgICAgICAgICBwb3B1cF9lMzFmOGZiMGQxNWQ0NDBmYTcyZGNhNGE5MTQ4YjlmOC5zZXRDb250ZW50KGh0bWxfNDAwYWNmMGRmYjJmNDBlYmJhNTNlNjZjN2I4ZTdiMmEpOwogICAgICAgICAgICAKCiAgICAgICAgICAgIGNpcmNsZV9tYXJrZXJfNzRlYTBmMTMyOWQyNGJmNGIxZGUzNWNmYzM2MDdjODYuYmluZFBvcHVwKHBvcHVwX2UzMWY4ZmIwZDE1ZDQ0MGZhNzJkY2E0YTkxNDhiOWY4KQogICAgICAgICAgICA7CgogICAgICAgICAgICAKICAgICAgICAKICAgIAogICAgICAgICAgICB2YXIgY2lyY2xlX21hcmtlcl9iYTcwZThkYzBiZjQ0YjMxYTI0Y2ViNjM5ZTk4NWQ4OSA9IEwuY2lyY2xlTWFya2VyKAogICAgICAgICAgICAgICAgWzQzLjY0NjQzNTIsIC03OS4zNzQ4NDU5OTk5OTk5OV0sCiAgICAgICAgICAgICAgICB7CiAgImJ1YmJsaW5nTW91c2VFdmVudHMiOiB0cnVlLAogICJjb2xvciI6ICJibHVlIiwKICAiZGFzaEFycmF5IjogbnVsbCwKICAiZGFzaE9mZnNldCI6IG51bGwsCiAgImZpbGwiOiB0cnVlLAogICJmaWxsQ29sb3IiOiAibGlnaHRjb3JhbCIsCiAgImZpbGxPcGFjaXR5IjogMC41LAogICJmaWxsUnVsZSI6ICJldmVub2RkIiwKICAibGluZUNhcCI6ICJyb3VuZCIsCiAgImxpbmVKb2luIjogInJvdW5kIiwKICAib3BhY2l0eSI6IDEuMCwKICAicmFkaXVzIjogNSwKICAic3Ryb2tlIjogdHJ1ZSwKICAid2VpZ2h0IjogMwp9CiAgICAgICAgICAgICAgICApCiAgICAgICAgICAgICAgICAuYWRkVG8obWFwX2MyOWUwMzAzMTAzMzQzMmNhN2JmZTljNDc3NTBhZGNhKTsKICAgICAgICAgICAgCiAgICAKICAgICAgICAgICAgdmFyIHBvcHVwX2YxZGRlMzQzZDcyMDQzOGY5YjhhNWQ5NDEzNzU0YzRjID0gTC5wb3B1cCh7bWF4V2lkdGg6ICcxMDAlJwogICAgICAgICAgICAKICAgICAgICAgICAgfSk7CgogICAgICAgICAgICAKICAgICAgICAgICAgICAgIHZhciBodG1sXzM1NzAyYTkzOGE5MDQyZDk5MTM4NGI0ZDYxYmM5OWRjID0gJChgPGRpdiBpZD0iaHRtbF8zNTcwMmE5MzhhOTA0MmQ5OTEzODRiNGQ2MWJjOTlkYyIgc3R5bGU9IndpZHRoOiAxMDAuMCU7IGhlaWdodDogMTAwLjAlOyI+U3RuIEEgUE8gQm94ZXMgMjUgVGhlIEVzcGxhbmFkZTwvZGl2PmApWzBdOwogICAgICAgICAgICAgICAgcG9wdXBfZjFkZGUzNDNkNzIwNDM4ZjliOGE1ZDk0MTM3NTRjNGMuc2V0Q29udGVudChodG1sXzM1NzAyYTkzOGE5MDQyZDk5MTM4NGI0ZDYxYmM5OWRjKTsKICAgICAgICAgICAgCgogICAgICAgICAgICBjaXJjbGVfbWFya2VyX2JhNzBlOGRjMGJmNDRiMzFhMjRjZWI2MzllOTg1ZDg5LmJpbmRQb3B1cChwb3B1cF9mMWRkZTM0M2Q3MjA0MzhmOWI4YTVkOTQxMzc1NGM0YykKICAgICAgICAgICAgOwoKICAgICAgICAgICAgCiAgICAgICAgCiAgICAKICAgICAgICAgICAgdmFyIGNpcmNsZV9tYXJrZXJfMmQ5YjJmZWM3MTA2NDE5ZWIwZjVjOWRiN2VjNTRiN2UgPSBMLmNpcmNsZU1hcmtlcigKICAgICAgICAgICAgICAgIFs0My42NDg0MjkyLCAtNzkuMzgyMjgwMl0sCiAgICAgICAgICAgICAgICB7CiAgImJ1YmJsaW5nTW91c2VFdmVudHMiOiB0cnVlLAogICJjb2xvciI6ICJibHVlIiwKICAiZGFzaEFycmF5IjogbnVsbCwKICAiZGFzaE9mZnNldCI6IG51bGwsCiAgImZpbGwiOiB0cnVlLAogICJmaWxsQ29sb3IiOiAibGlnaHRjb3JhbCIsCiAgImZpbGxPcGFjaXR5IjogMC41LAogICJmaWxsUnVsZSI6ICJldmVub2RkIiwKICAibGluZUNhcCI6ICJyb3VuZCIsCiAgImxpbmVKb2luIjogInJvdW5kIiwKICAib3BhY2l0eSI6IDEuMCwKICAicmFkaXVzIjogNSwKICAic3Ryb2tlIjogdHJ1ZSwKICAid2VpZ2h0IjogMwp9CiAgICAgICAgICAgICAgICApCiAgICAgICAgICAgICAgICAuYWRkVG8obWFwX2MyOWUwMzAzMTAzMzQzMmNhN2JmZTljNDc3NTBhZGNhKTsKICAgICAgICAgICAgCiAgICAKICAgICAgICAgICAgdmFyIHBvcHVwX2NiODllNjMyNDI4ZTQ4ZGFhMTEzNTg2YWE1YmY0ZTNkID0gTC5wb3B1cCh7bWF4V2lkdGg6ICcxMDAlJwogICAgICAgICAgICAKICAgICAgICAgICAgfSk7CgogICAgICAgICAgICAKICAgICAgICAgICAgICAgIHZhciBodG1sXzJmNDk4YWUzZjRhMTQ4OGI5NTkwODY0YWQ1ODMwMjQ3ID0gJChgPGRpdiBpZD0iaHRtbF8yZjQ5OGFlM2Y0YTE0ODhiOTU5MDg2NGFkNTgzMDI0NyIgc3R5bGU9IndpZHRoOiAxMDAuMCU7IGhlaWdodDogMTAwLjAlOyI+Rmlyc3QgQ2FuYWRpYW4gUGxhY2UsVW5kZXJncm91bmQgY2l0eTwvZGl2PmApWzBdOwogICAgICAgICAgICAgICAgcG9wdXBfY2I4OWU2MzI0MjhlNDhkYWExMTM1ODZhYTViZjRlM2Quc2V0Q29udGVudChodG1sXzJmNDk4YWUzZjRhMTQ4OGI5NTkwODY0YWQ1ODMwMjQ3KTsKICAgICAgICAgICAgCgogICAgICAgICAgICBjaXJjbGVfbWFya2VyXzJkOWIyZmVjNzEwNjQxOWViMGY1YzlkYjdlYzU0YjdlLmJpbmRQb3B1cChwb3B1cF9jYjg5ZTYzMjQyOGU0OGRhYTExMzU4NmFhNWJmNGUzZCkKICAgICAgICAgICAgOwoKICAgICAgICAgICAgCiAgICAgICAgCiAgICAKICAgICAgICAgICAgdmFyIGNpcmNsZV9tYXJrZXJfYTEzZjQ1ZTFlNDI1NGQ2MzljNmNjODY4YTliNDE3ZTMgPSBMLmNpcmNsZU1hcmtlcigKICAgICAgICAgICAgICAgIFs0My42Njk1NDIsIC03OS40MjI1NjM3XSwKICAgICAgICAgICAgICAgIHsKICAiYnViYmxpbmdNb3VzZUV2ZW50cyI6IHRydWUsCiAgImNvbG9yIjogImJsdWUiLAogICJkYXNoQXJyYXkiOiBudWxsLAogICJkYXNoT2Zmc2V0IjogbnVsbCwKICAiZmlsbCI6IHRydWUsCiAgImZpbGxDb2xvciI6ICJsaWdodGNvcmFsIiwKICAiZmlsbE9wYWNpdHkiOiAwLjUsCiAgImZpbGxSdWxlIjogImV2ZW5vZGQiLAogICJsaW5lQ2FwIjogInJvdW5kIiwKICAibGluZUpvaW4iOiAicm91bmQiLAogICJvcGFjaXR5IjogMS4wLAogICJyYWRpdXMiOiA1LAogICJzdHJva2UiOiB0cnVlLAogICJ3ZWlnaHQiOiAzCn0KICAgICAgICAgICAgICAgICkKICAgICAgICAgICAgICAgIC5hZGRUbyhtYXBfYzI5ZTAzMDMxMDMzNDMyY2E3YmZlOWM0Nzc1MGFkY2EpOwogICAgICAgICAgICAKICAgIAogICAgICAgICAgICB2YXIgcG9wdXBfYmUwN2NlOGJmYThhNGM1ZTliMTM0MjRlODFjODkwNmMgPSBMLnBvcHVwKHttYXhXaWR0aDogJzEwMCUnCiAgICAgICAgICAgIAogICAgICAgICAgICB9KTsKCiAgICAgICAgICAgIAogICAgICAgICAgICAgICAgdmFyIGh0bWxfNzJkMTVmMWZlNGY5NDY5YTkwZGZmYmMxMzA5YWRmZmIgPSAkKGA8ZGl2IGlkPSJodG1sXzcyZDE1ZjFmZTRmOTQ2OWE5MGRmZmJjMTMwOWFkZmZiIiBzdHlsZT0id2lkdGg6IDEwMC4wJTsgaGVpZ2h0OiAxMDAuMCU7Ij5DaHJpc3RpZTwvZGl2PmApWzBdOwogICAgICAgICAgICAgICAgcG9wdXBfYmUwN2NlOGJmYThhNGM1ZTliMTM0MjRlODFjODkwNmMuc2V0Q29udGVudChodG1sXzcyZDE1ZjFmZTRmOTQ2OWE5MGRmZmJjMTMwOWFkZmZiKTsKICAgICAgICAgICAgCgogICAgICAgICAgICBjaXJjbGVfbWFya2VyX2ExM2Y0NWUxZTQyNTRkNjM5YzZjYzg2OGE5YjQxN2UzLmJpbmRQb3B1cChwb3B1cF9iZTA3Y2U4YmZhOGE0YzVlOWIxMzQyNGU4MWM4OTA2YykKICAgICAgICAgICAgOwoKICAgICAgICAgICAgCiAgICAgICAgCiAgICAKICAgICAgICAgICAgdmFyIGNpcmNsZV9tYXJrZXJfNThlYzAzMDM5OTYxNDA4ZGJkYzNiNTUxN2YzYjQ2ZTMgPSBMLmNpcmNsZU1hcmtlcigKICAgICAgICAgICAgICAgIFs0My42NjkwMDUxMDAwMDAwMSwgLTc5LjQ0MjI1OTNdLAogICAgICAgICAgICAgICAgewogICJidWJibGluZ01vdXNlRXZlbnRzIjogdHJ1ZSwKICAiY29sb3IiOiAiYmx1ZSIsCiAgImRhc2hBcnJheSI6IG51bGwsCiAgImRhc2hPZmZzZXQiOiBudWxsLAogICJmaWxsIjogdHJ1ZSwKICAiZmlsbENvbG9yIjogImxpZ2h0Y29yYWwiLAogICJmaWxsT3BhY2l0eSI6IDAuNSwKICAiZmlsbFJ1bGUiOiAiZXZlbm9kZCIsCiAgImxpbmVDYXAiOiAicm91bmQiLAogICJsaW5lSm9pbiI6ICJyb3VuZCIsCiAgIm9wYWNpdHkiOiAxLjAsCiAgInJhZGl1cyI6IDUsCiAgInN0cm9rZSI6IHRydWUsCiAgIndlaWdodCI6IDMKfQogICAgICAgICAgICAgICAgKQogICAgICAgICAgICAgICAgLmFkZFRvKG1hcF9jMjllMDMwMzEwMzM0MzJjYTdiZmU5YzQ3NzUwYWRjYSk7CiAgICAgICAgICAgIAogICAgCiAgICAgICAgICAgIHZhciBwb3B1cF9hZDU4YzA4YjViYTY0YTA2ODQxMWQ0NjhlMDc4Y2E5MCA9IEwucG9wdXAoe21heFdpZHRoOiAnMTAwJScKICAgICAgICAgICAgCiAgICAgICAgICAgIH0pOwoKICAgICAgICAgICAgCiAgICAgICAgICAgICAgICB2YXIgaHRtbF8yMzFiNDBlZGMyNDA0OGFmODRkZjQxNDBlNTg4MThhYyA9ICQoYDxkaXYgaWQ9Imh0bWxfMjMxYjQwZWRjMjQwNDhhZjg0ZGY0MTQwZTU4ODE4YWMiIHN0eWxlPSJ3aWR0aDogMTAwLjAlOyBoZWlnaHQ6IDEwMC4wJTsiPkRvdmVyY291cnQgVmlsbGFnZSxEdWZmZXJpbjwvZGl2PmApWzBdOwogICAgICAgICAgICAgICAgcG9wdXBfYWQ1OGMwOGI1YmE2NGEwNjg0MTFkNDY4ZTA3OGNhOTAuc2V0Q29udGVudChodG1sXzIzMWI0MGVkYzI0MDQ4YWY4NGRmNDE0MGU1ODgxOGFjKTsKICAgICAgICAgICAgCgogICAgICAgICAgICBjaXJjbGVfbWFya2VyXzU4ZWMwMzAzOTk2MTQwOGRiZGMzYjU1MTdmM2I0NmUzLmJpbmRQb3B1cChwb3B1cF9hZDU4YzA4YjViYTY0YTA2ODQxMWQ0NjhlMDc4Y2E5MCkKICAgICAgICAgICAgOwoKICAgICAgICAgICAgCiAgICAgICAgCiAgICAKICAgICAgICAgICAgdmFyIGNpcmNsZV9tYXJrZXJfNjlhZjk5ZDA1OTJiNDJhN2I1YjRkNjRlNWI0OGY1OTcgPSBMLmNpcmNsZU1hcmtlcigKICAgICAgICAgICAgICAgIFs0My42NDc5MjY3MDAwMDAwMDYsIC03OS40MTk3NDk3XSwKICAgICAgICAgICAgICAgIHsKICAiYnViYmxpbmdNb3VzZUV2ZW50cyI6IHRydWUsCiAgImNvbG9yIjogImJsdWUiLAogICJkYXNoQXJyYXkiOiBudWxsLAogICJkYXNoT2Zmc2V0IjogbnVsbCwKICAiZmlsbCI6IHRydWUsCiAgImZpbGxDb2xvciI6ICJsaWdodGNvcmFsIiwKICAiZmlsbE9wYWNpdHkiOiAwLjUsCiAgImZpbGxSdWxlIjogImV2ZW5vZGQiLAogICJsaW5lQ2FwIjogInJvdW5kIiwKICAibGluZUpvaW4iOiAicm91bmQiLAogICJvcGFjaXR5IjogMS4wLAogICJyYWRpdXMiOiA1LAogICJzdHJva2UiOiB0cnVlLAogICJ3ZWlnaHQiOiAzCn0KICAgICAgICAgICAgICAgICkKICAgICAgICAgICAgICAgIC5hZGRUbyhtYXBfYzI5ZTAzMDMxMDMzNDMyY2E3YmZlOWM0Nzc1MGFkY2EpOwogICAgICAgICAgICAKICAgIAogICAgICAgICAgICB2YXIgcG9wdXBfODdlZjUxZmI4NTZiNDU1Nzk0NzdhY2I2NDEzMTRkMDYgPSBMLnBvcHVwKHttYXhXaWR0aDogJzEwMCUnCiAgICAgICAgICAgIAogICAgICAgICAgICB9KTsKCiAgICAgICAgICAgIAogICAgICAgICAgICAgICAgdmFyIGh0bWxfNDJjYTU3OWZhNTI4NGE3YjkyYzgzYTZmN2ZmNzdlMzUgPSAkKGA8ZGl2IGlkPSJodG1sXzQyY2E1NzlmYTUyODRhN2I5MmM4M2E2ZjdmZjc3ZTM1IiBzdHlsZT0id2lkdGg6IDEwMC4wJTsgaGVpZ2h0OiAxMDAuMCU7Ij5MaXR0bGUgUG9ydHVnYWwsVHJpbml0eTwvZGl2PmApWzBdOwogICAgICAgICAgICAgICAgcG9wdXBfODdlZjUxZmI4NTZiNDU1Nzk0NzdhY2I2NDEzMTRkMDYuc2V0Q29udGVudChodG1sXzQyY2E1NzlmYTUyODRhN2I5MmM4M2E2ZjdmZjc3ZTM1KTsKICAgICAgICAgICAgCgogICAgICAgICAgICBjaXJjbGVfbWFya2VyXzY5YWY5OWQwNTkyYjQyYTdiNWI0ZDY0ZTViNDhmNTk3LmJpbmRQb3B1cChwb3B1cF84N2VmNTFmYjg1NmI0NTU3OTQ3N2FjYjY0MTMxNGQwNikKICAgICAgICAgICAgOwoKICAgICAgICAgICAgCiAgICAgICAgCiAgICAKICAgICAgICAgICAgdmFyIGNpcmNsZV9tYXJrZXJfNTI5ZmRkNmNmMDBlNDdkZjhkNmMxODZlYWRhZWFlODYgPSBMLmNpcmNsZU1hcmtlcigKICAgICAgICAgICAgICAgIFs0My42MzY4NDcyLCAtNzkuNDI4MTkxNDAwMDAwMDJdLAogICAgICAgICAgICAgICAgewogICJidWJibGluZ01vdXNlRXZlbnRzIjogdHJ1ZSwKICAiY29sb3IiOiAiYmx1ZSIsCiAgImRhc2hBcnJheSI6IG51bGwsCiAgImRhc2hPZmZzZXQiOiBudWxsLAogICJmaWxsIjogdHJ1ZSwKICAiZmlsbENvbG9yIjogImxpZ2h0Y29yYWwiLAogICJmaWxsT3BhY2l0eSI6IDAuNSwKICAiZmlsbFJ1bGUiOiAiZXZlbm9kZCIsCiAgImxpbmVDYXAiOiAicm91bmQiLAogICJsaW5lSm9pbiI6ICJyb3VuZCIsCiAgIm9wYWNpdHkiOiAxLjAsCiAgInJhZGl1cyI6IDUsCiAgInN0cm9rZSI6IHRydWUsCiAgIndlaWdodCI6IDMKfQogICAgICAgICAgICAgICAgKQogICAgICAgICAgICAgICAgLmFkZFRvKG1hcF9jMjllMDMwMzEwMzM0MzJjYTdiZmU5YzQ3NzUwYWRjYSk7CiAgICAgICAgICAgIAogICAgCiAgICAgICAgICAgIHZhciBwb3B1cF9kMWMxMTZlZmNhNWM0MDc0OTlhMGIzMDI0NWM1OGRiMiA9IEwucG9wdXAoe21heFdpZHRoOiAnMTAwJScKICAgICAgICAgICAgCiAgICAgICAgICAgIH0pOwoKICAgICAgICAgICAgCiAgICAgICAgICAgICAgICB2YXIgaHRtbF83YzlhZjRhYjFjYTM0OGI0OTVmNzBiZjY4MWE1ZmQ4NSA9ICQoYDxkaXYgaWQ9Imh0bWxfN2M5YWY0YWIxY2EzNDhiNDk1ZjcwYmY2ODFhNWZkODUiIHN0eWxlPSJ3aWR0aDogMTAwLjAlOyBoZWlnaHQ6IDEwMC4wJTsiPkJyb2NrdG9uLEV4aGliaXRpb24gUGxhY2UsUGFya2RhbGUgVmlsbGFnZTwvZGl2PmApWzBdOwogICAgICAgICAgICAgICAgcG9wdXBfZDFjMTE2ZWZjYTVjNDA3NDk5YTBiMzAyNDVjNThkYjIuc2V0Q29udGVudChodG1sXzdjOWFmNGFiMWNhMzQ4YjQ5NWY3MGJmNjgxYTVmZDg1KTsKICAgICAgICAgICAgCgogICAgICAgICAgICBjaXJjbGVfbWFya2VyXzUyOWZkZDZjZjAwZTQ3ZGY4ZDZjMTg2ZWFkYWVhZTg2LmJpbmRQb3B1cChwb3B1cF9kMWMxMTZlZmNhNWM0MDc0OTlhMGIzMDI0NWM1OGRiMikKICAgICAgICAgICAgOwoKICAgICAgICAgICAgCiAgICAgICAgCiAgICAKICAgICAgICAgICAgdmFyIGNpcmNsZV9tYXJrZXJfYTZiODVjNTgxZWQ4NDMwYThmM2RhMzMxMmVkOGNjNmQgPSBMLmNpcmNsZU1hcmtlcigKICAgICAgICAgICAgICAgIFs0My42NjE2MDgzLCAtNzkuNDY0NzYzMjk5OTk5OTldLAogICAgICAgICAgICAgICAgewogICJidWJibGluZ01vdXNlRXZlbnRzIjogdHJ1ZSwKICAiY29sb3IiOiAiYmx1ZSIsCiAgImRhc2hBcnJheSI6IG51bGwsCiAgImRhc2hPZmZzZXQiOiBudWxsLAogICJmaWxsIjogdHJ1ZSwKICAiZmlsbENvbG9yIjogImxpZ2h0Y29yYWwiLAogICJmaWxsT3BhY2l0eSI6IDAuNSwKICAiZmlsbFJ1bGUiOiAiZXZlbm9kZCIsCiAgImxpbmVDYXAiOiAicm91bmQiLAogICJsaW5lSm9pbiI6ICJyb3VuZCIsCiAgIm9wYWNpdHkiOiAxLjAsCiAgInJhZGl1cyI6IDUsCiAgInN0cm9rZSI6IHRydWUsCiAgIndlaWdodCI6IDMKfQogICAgICAgICAgICAgICAgKQogICAgICAgICAgICAgICAgLmFkZFRvKG1hcF9jMjllMDMwMzEwMzM0MzJjYTdiZmU5YzQ3NzUwYWRjYSk7CiAgICAgICAgICAgIAogICAgCiAgICAgICAgICAgIHZhciBwb3B1cF8zNDg1NGExNWE1ZGM0ZTY1YjVmZjMyYzMwZTMxZDNjYiA9IEwucG9wdXAoe21heFdpZHRoOiAnMTAwJScKICAgICAgICAgICAgCiAgICAgICAgICAgIH0pOwoKICAgICAgICAgICAgCiAgICAgICAgICAgICAgICB2YXIgaHRtbF82YzNhNjkzNDc3YTE0NWJjODk4ZDYyNzIyNTJlYjVhMCA9ICQoYDxkaXYgaWQ9Imh0bWxfNmMzYTY5MzQ3N2ExNDViYzg5OGQ2MjcyMjUyZWI1YTAiIHN0eWxlPSJ3aWR0aDogMTAwLjAlOyBoZWlnaHQ6IDEwMC4wJTsiPkhpZ2ggUGFyayxUaGUgSnVuY3Rpb24gU291dGg8L2Rpdj5gKVswXTsKICAgICAgICAgICAgICAgIHBvcHVwXzM0ODU0YTE1YTVkYzRlNjViNWZmMzJjMzBlMzFkM2NiLnNldENvbnRlbnQoaHRtbF82YzNhNjkzNDc3YTE0NWJjODk4ZDYyNzIyNTJlYjVhMCk7CiAgICAgICAgICAgIAoKICAgICAgICAgICAgY2lyY2xlX21hcmtlcl9hNmI4NWM1ODFlZDg0MzBhOGYzZGEzMzEyZWQ4Y2M2ZC5iaW5kUG9wdXAocG9wdXBfMzQ4NTRhMTVhNWRjNGU2NWI1ZmYzMmMzMGUzMWQzY2IpCiAgICAgICAgICAgIDsKCiAgICAgICAgICAgIAogICAgICAgIAogICAgCiAgICAgICAgICAgIHZhciBjaXJjbGVfbWFya2VyXzQ4NGViNjZlOWVmMjRjNmY5MzJiNDRhYWI5OGVhY2MzID0gTC5jaXJjbGVNYXJrZXIoCiAgICAgICAgICAgICAgICBbNDMuNjQ4OTU5NywgLTc5LjQ1NjMyNV0sCiAgICAgICAgICAgICAgICB7CiAgImJ1YmJsaW5nTW91c2VFdmVudHMiOiB0cnVlLAogICJjb2xvciI6ICJibHVlIiwKICAiZGFzaEFycmF5IjogbnVsbCwKICAiZGFzaE9mZnNldCI6IG51bGwsCiAgImZpbGwiOiB0cnVlLAogICJmaWxsQ29sb3IiOiAibGlnaHRjb3JhbCIsCiAgImZpbGxPcGFjaXR5IjogMC41LAogICJmaWxsUnVsZSI6ICJldmVub2RkIiwKICAibGluZUNhcCI6ICJyb3VuZCIsCiAgImxpbmVKb2luIjogInJvdW5kIiwKICAib3BhY2l0eSI6IDEuMCwKICAicmFkaXVzIjogNSwKICAic3Ryb2tlIjogdHJ1ZSwKICAid2VpZ2h0IjogMwp9CiAgICAgICAgICAgICAgICApCiAgICAgICAgICAgICAgICAuYWRkVG8obWFwX2MyOWUwMzAzMTAzMzQzMmNhN2JmZTljNDc3NTBhZGNhKTsKICAgICAgICAgICAgCiAgICAKICAgICAgICAgICAgdmFyIHBvcHVwXzk0MjhkYTU5N2RjMTQwMTI5NWUwM2FjMTlmMzk0MDgwID0gTC5wb3B1cCh7bWF4V2lkdGg6ICcxMDAlJwogICAgICAgICAgICAKICAgICAgICAgICAgfSk7CgogICAgICAgICAgICAKICAgICAgICAgICAgICAgIHZhciBodG1sXzc2YzU4MmE0NmFkZDQ0NDc4MWVmMjFkMWMxNzhmNTlmID0gJChgPGRpdiBpZD0iaHRtbF83NmM1ODJhNDZhZGQ0NDQ3ODFlZjIxZDFjMTc4ZjU5ZiIgc3R5bGU9IndpZHRoOiAxMDAuMCU7IGhlaWdodDogMTAwLjAlOyI+UGFya2RhbGUsUm9uY2VzdmFsbGVzPC9kaXY+YClbMF07CiAgICAgICAgICAgICAgICBwb3B1cF85NDI4ZGE1OTdkYzE0MDEyOTVlMDNhYzE5ZjM5NDA4MC5zZXRDb250ZW50KGh0bWxfNzZjNTgyYTQ2YWRkNDQ0NzgxZWYyMWQxYzE3OGY1OWYpOwogICAgICAgICAgICAKCiAgICAgICAgICAgIGNpcmNsZV9tYXJrZXJfNDg0ZWI2NmU5ZWYyNGM2ZjkzMmI0NGFhYjk4ZWFjYzMuYmluZFBvcHVwKHBvcHVwXzk0MjhkYTU5N2RjMTQwMTI5NWUwM2FjMTlmMzk0MDgwKQogICAgICAgICAgICA7CgogICAgICAgICAgICAKICAgICAgICAKICAgIAogICAgICAgICAgICB2YXIgY2lyY2xlX21hcmtlcl9kN2IzZjRmYTAyNzM0YzdlYjljZmFlNDU5NjFmODQyNyA9IEwuY2lyY2xlTWFya2VyKAogICAgICAgICAgICAgICAgWzQzLjY1MTU3MDYsIC03OS40ODQ0NDk5XSwKICAgICAgICAgICAgICAgIHsKICAiYnViYmxpbmdNb3VzZUV2ZW50cyI6IHRydWUsCiAgImNvbG9yIjogImJsdWUiLAogICJkYXNoQXJyYXkiOiBudWxsLAogICJkYXNoT2Zmc2V0IjogbnVsbCwKICAiZmlsbCI6IHRydWUsCiAgImZpbGxDb2xvciI6ICJsaWdodGNvcmFsIiwKICAiZmlsbE9wYWNpdHkiOiAwLjUsCiAgImZpbGxSdWxlIjogImV2ZW5vZGQiLAogICJsaW5lQ2FwIjogInJvdW5kIiwKICAibGluZUpvaW4iOiAicm91bmQiLAogICJvcGFjaXR5IjogMS4wLAogICJyYWRpdXMiOiA1LAogICJzdHJva2UiOiB0cnVlLAogICJ3ZWlnaHQiOiAzCn0KICAgICAgICAgICAgICAgICkKICAgICAgICAgICAgICAgIC5hZGRUbyhtYXBfYzI5ZTAzMDMxMDMzNDMyY2E3YmZlOWM0Nzc1MGFkY2EpOwogICAgICAgICAgICAKICAgIAogICAgICAgICAgICB2YXIgcG9wdXBfYzNjOWEyOGFiZTNlNGQ0NDk5NjkwM2YyODcwZjRhNjkgPSBMLnBvcHVwKHttYXhXaWR0aDogJzEwMCUnCiAgICAgICAgICAgIAogICAgICAgICAgICB9KTsKCiAgICAgICAgICAgIAogICAgICAgICAgICAgICAgdmFyIGh0bWxfMmIzODgyOTU5MTVlNDZmZDk5MTQ3NWNiOGJmNzU4OTggPSAkKGA8ZGl2IGlkPSJodG1sXzJiMzg4Mjk1OTE1ZTQ2ZmQ5OTE0NzVjYjhiZjc1ODk4IiBzdHlsZT0id2lkdGg6IDEwMC4wJTsgaGVpZ2h0OiAxMDAuMCU7Ij5SdW5ueW1lZGUsU3dhbnNlYTwvZGl2PmApWzBdOwogICAgICAgICAgICAgICAgcG9wdXBfYzNjOWEyOGFiZTNlNGQ0NDk5NjkwM2YyODcwZjRhNjkuc2V0Q29udGVudChodG1sXzJiMzg4Mjk1OTE1ZTQ2ZmQ5OTE0NzVjYjhiZjc1ODk4KTsKICAgICAgICAgICAgCgogICAgICAgICAgICBjaXJjbGVfbWFya2VyX2Q3YjNmNGZhMDI3MzRjN2ViOWNmYWU0NTk2MWY4NDI3LmJpbmRQb3B1cChwb3B1cF9jM2M5YTI4YWJlM2U0ZDQ0OTk2OTAzZjI4NzBmNGE2OSkKICAgICAgICAgICAgOwoKICAgICAgICAgICAgCiAgICAgICAgCiAgICAKICAgICAgICAgICAgdmFyIGNpcmNsZV9tYXJrZXJfN2VmNTVlZDg3MzYyNGM0ZjkzMjQ4MWY1MzIxNzg4MzkgPSBMLmNpcmNsZU1hcmtlcigKICAgICAgICAgICAgICAgIFs0My42NjI3NDM5LCAtNzkuMzIxNTU4XSwKICAgICAgICAgICAgICAgIHsKICAiYnViYmxpbmdNb3VzZUV2ZW50cyI6IHRydWUsCiAgImNvbG9yIjogImJsdWUiLAogICJkYXNoQXJyYXkiOiBudWxsLAogICJkYXNoT2Zmc2V0IjogbnVsbCwKICAiZmlsbCI6IHRydWUsCiAgImZpbGxDb2xvciI6ICJsaWdodGNvcmFsIiwKICAiZmlsbE9wYWNpdHkiOiAwLjUsCiAgImZpbGxSdWxlIjogImV2ZW5vZGQiLAogICJsaW5lQ2FwIjogInJvdW5kIiwKICAibGluZUpvaW4iOiAicm91bmQiLAogICJvcGFjaXR5IjogMS4wLAogICJyYWRpdXMiOiA1LAogICJzdHJva2UiOiB0cnVlLAogICJ3ZWlnaHQiOiAzCn0KICAgICAgICAgICAgICAgICkKICAgICAgICAgICAgICAgIC5hZGRUbyhtYXBfYzI5ZTAzMDMxMDMzNDMyY2E3YmZlOWM0Nzc1MGFkY2EpOwogICAgICAgICAgICAKICAgIAogICAgICAgICAgICB2YXIgcG9wdXBfNzgzY2IyMTVmMTBjNGVkNTkxNmRmYzMyNWJkZjU0NTcgPSBMLnBvcHVwKHttYXhXaWR0aDogJzEwMCUnCiAgICAgICAgICAgIAogICAgICAgICAgICB9KTsKCiAgICAgICAgICAgIAogICAgICAgICAgICAgICAgdmFyIGh0bWxfYzUxMDE0YmQ5NTg1NGMwM2IyMzQ2NGFlMTgxOTRkZjQgPSAkKGA8ZGl2IGlkPSJodG1sX2M1MTAxNGJkOTU4NTRjMDNiMjM0NjRhZTE4MTk0ZGY0IiBzdHlsZT0id2lkdGg6IDEwMC4wJTsgaGVpZ2h0OiAxMDAuMCU7Ij5CdXNpbmVzcyBSZXBseSBNYWlsIFByb2Nlc3NpbmcgQ2VudHJlIDk2OSBFYXN0ZXJuPC9kaXY+YClbMF07CiAgICAgICAgICAgICAgICBwb3B1cF83ODNjYjIxNWYxMGM0ZWQ1OTE2ZGZjMzI1YmRmNTQ1Ny5zZXRDb250ZW50KGh0bWxfYzUxMDE0YmQ5NTg1NGMwM2IyMzQ2NGFlMTgxOTRkZjQpOwogICAgICAgICAgICAKCiAgICAgICAgICAgIGNpcmNsZV9tYXJrZXJfN2VmNTVlZDg3MzYyNGM0ZjkzMjQ4MWY1MzIxNzg4MzkuYmluZFBvcHVwKHBvcHVwXzc4M2NiMjE1ZjEwYzRlZDU5MTZkZmMzMjViZGY1NDU3KQogICAgICAgICAgICA7CgogICAgICAgICAgICAKICAgICAgICAKPC9zY3JpcHQ+\" style=\"position:absolute;width:100%;height:100%;left:0;top:0;border:none !important;\" allowfullscreen webkitallowfullscreen mozallowfullscreen></iframe></div></div>"
      ],
      "text/plain": [
       "<folium.folium.Map at 0x11f5d5b38>"
      ]
     },
     "execution_count": 22,
     "metadata": {},
     "output_type": "execute_result"
    }
   ],
   "source": [
    "# create the map\n",
    "for lat, lng, label in zip(canada_table_df['GPS_Lat'], canada_table_df['GPS_Lon'], canada_table_df['Neighbourhood']):\n",
    "    label = folium.Popup(label, parse_html = True)\n",
    "    folium.CircleMarker(\n",
    "    [lat, lng],\n",
    "    radius = 5,\n",
    "    popup = label,\n",
    "    color = 'blue',\n",
    "    fill = True,\n",
    "    fill_color = 'lightcoral',\n",
    "    fill_opacity = 0.5,\n",
    "    parse_html = False).add_to(map_canda)\n",
    "\n",
    "map_canda"
   ]
  }
 ],
 "metadata": {
  "kernelspec": {
   "display_name": "Python 3",
   "language": "python",
   "name": "python3"
  },
  "language_info": {
   "codemirror_mode": {
    "name": "ipython",
    "version": 3
   },
   "file_extension": ".py",
   "mimetype": "text/x-python",
   "name": "python",
   "nbconvert_exporter": "python",
   "pygments_lexer": "ipython3",
   "version": "3.7.0"
  },
  "toc": {
   "base_numbering": 1,
   "nav_menu": {},
   "number_sections": false,
   "sideBar": true,
   "skip_h1_title": false,
   "title_cell": "Table of Contents",
   "title_sidebar": "Contents",
   "toc_cell": false,
   "toc_position": {},
   "toc_section_display": true,
   "toc_window_display": false
  },
  "varInspector": {
   "cols": {
    "lenName": 16,
    "lenType": 16,
    "lenVar": 40
   },
   "kernels_config": {
    "python": {
     "delete_cmd_postfix": "",
     "delete_cmd_prefix": "del ",
     "library": "var_list.py",
     "varRefreshCmd": "print(var_dic_list())"
    },
    "r": {
     "delete_cmd_postfix": ") ",
     "delete_cmd_prefix": "rm(",
     "library": "var_list.r",
     "varRefreshCmd": "cat(var_dic_list()) "
    }
   },
   "position": {
    "height": "280px",
    "left": "376px",
    "right": "20px",
    "top": "120px",
    "width": "558px"
   },
   "types_to_exclude": [
    "module",
    "function",
    "builtin_function_or_method",
    "instance",
    "_Feature"
   ],
   "window_display": false
  }
 },
 "nbformat": 4,
 "nbformat_minor": 2
}
